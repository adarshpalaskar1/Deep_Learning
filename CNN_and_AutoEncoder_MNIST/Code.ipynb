{
  "nbformat": 4,
  "nbformat_minor": 0,
  "metadata": {
    "colab": {
      "provenance": []
    },
    "kernelspec": {
      "name": "python3",
      "display_name": "Python 3"
    },
    "language_info": {
      "name": "python"
    },
    "gpuClass": "standard",
    "accelerator": "GPU",
    "widgets": {
      "application/vnd.jupyter.widget-state+json": {
        "82f46ed636be4c39a9e894adf6207ff6": {
          "model_module": "@jupyter-widgets/controls",
          "model_name": "HBoxModel",
          "model_module_version": "1.5.0",
          "state": {
            "_dom_classes": [],
            "_model_module": "@jupyter-widgets/controls",
            "_model_module_version": "1.5.0",
            "_model_name": "HBoxModel",
            "_view_count": null,
            "_view_module": "@jupyter-widgets/controls",
            "_view_module_version": "1.5.0",
            "_view_name": "HBoxView",
            "box_style": "",
            "children": [
              "IPY_MODEL_66ce63109219409594a772684cf48030",
              "IPY_MODEL_9c856f5e93124ad793c336940c749569",
              "IPY_MODEL_b42a4f0de0074a5e80c039af4179d881"
            ],
            "layout": "IPY_MODEL_d2be5b191b4d47ce863ee14c93134e89"
          }
        },
        "66ce63109219409594a772684cf48030": {
          "model_module": "@jupyter-widgets/controls",
          "model_name": "HTMLModel",
          "model_module_version": "1.5.0",
          "state": {
            "_dom_classes": [],
            "_model_module": "@jupyter-widgets/controls",
            "_model_module_version": "1.5.0",
            "_model_name": "HTMLModel",
            "_view_count": null,
            "_view_module": "@jupyter-widgets/controls",
            "_view_module_version": "1.5.0",
            "_view_name": "HTMLView",
            "description": "",
            "description_tooltip": null,
            "layout": "IPY_MODEL_261e5f2907d844a4adf0e4652db6d686",
            "placeholder": "​",
            "style": "IPY_MODEL_24e0700450904104b456039ea61be1ff",
            "value": "100%"
          }
        },
        "9c856f5e93124ad793c336940c749569": {
          "model_module": "@jupyter-widgets/controls",
          "model_name": "FloatProgressModel",
          "model_module_version": "1.5.0",
          "state": {
            "_dom_classes": [],
            "_model_module": "@jupyter-widgets/controls",
            "_model_module_version": "1.5.0",
            "_model_name": "FloatProgressModel",
            "_view_count": null,
            "_view_module": "@jupyter-widgets/controls",
            "_view_module_version": "1.5.0",
            "_view_name": "ProgressView",
            "bar_style": "success",
            "description": "",
            "description_tooltip": null,
            "layout": "IPY_MODEL_b04c034824d54bdc82b919a6773c2d7d",
            "max": 9912422,
            "min": 0,
            "orientation": "horizontal",
            "style": "IPY_MODEL_eab1b5d987364c59b62bf2e4e5246850",
            "value": 9912422
          }
        },
        "b42a4f0de0074a5e80c039af4179d881": {
          "model_module": "@jupyter-widgets/controls",
          "model_name": "HTMLModel",
          "model_module_version": "1.5.0",
          "state": {
            "_dom_classes": [],
            "_model_module": "@jupyter-widgets/controls",
            "_model_module_version": "1.5.0",
            "_model_name": "HTMLModel",
            "_view_count": null,
            "_view_module": "@jupyter-widgets/controls",
            "_view_module_version": "1.5.0",
            "_view_name": "HTMLView",
            "description": "",
            "description_tooltip": null,
            "layout": "IPY_MODEL_2798ee36c3ce491294480d94eaf56553",
            "placeholder": "​",
            "style": "IPY_MODEL_8ed1f46263c849449e78a1cef6e5ec2b",
            "value": " 9912422/9912422 [00:00&lt;00:00, 146787193.97it/s]"
          }
        },
        "d2be5b191b4d47ce863ee14c93134e89": {
          "model_module": "@jupyter-widgets/base",
          "model_name": "LayoutModel",
          "model_module_version": "1.2.0",
          "state": {
            "_model_module": "@jupyter-widgets/base",
            "_model_module_version": "1.2.0",
            "_model_name": "LayoutModel",
            "_view_count": null,
            "_view_module": "@jupyter-widgets/base",
            "_view_module_version": "1.2.0",
            "_view_name": "LayoutView",
            "align_content": null,
            "align_items": null,
            "align_self": null,
            "border": null,
            "bottom": null,
            "display": null,
            "flex": null,
            "flex_flow": null,
            "grid_area": null,
            "grid_auto_columns": null,
            "grid_auto_flow": null,
            "grid_auto_rows": null,
            "grid_column": null,
            "grid_gap": null,
            "grid_row": null,
            "grid_template_areas": null,
            "grid_template_columns": null,
            "grid_template_rows": null,
            "height": null,
            "justify_content": null,
            "justify_items": null,
            "left": null,
            "margin": null,
            "max_height": null,
            "max_width": null,
            "min_height": null,
            "min_width": null,
            "object_fit": null,
            "object_position": null,
            "order": null,
            "overflow": null,
            "overflow_x": null,
            "overflow_y": null,
            "padding": null,
            "right": null,
            "top": null,
            "visibility": null,
            "width": null
          }
        },
        "261e5f2907d844a4adf0e4652db6d686": {
          "model_module": "@jupyter-widgets/base",
          "model_name": "LayoutModel",
          "model_module_version": "1.2.0",
          "state": {
            "_model_module": "@jupyter-widgets/base",
            "_model_module_version": "1.2.0",
            "_model_name": "LayoutModel",
            "_view_count": null,
            "_view_module": "@jupyter-widgets/base",
            "_view_module_version": "1.2.0",
            "_view_name": "LayoutView",
            "align_content": null,
            "align_items": null,
            "align_self": null,
            "border": null,
            "bottom": null,
            "display": null,
            "flex": null,
            "flex_flow": null,
            "grid_area": null,
            "grid_auto_columns": null,
            "grid_auto_flow": null,
            "grid_auto_rows": null,
            "grid_column": null,
            "grid_gap": null,
            "grid_row": null,
            "grid_template_areas": null,
            "grid_template_columns": null,
            "grid_template_rows": null,
            "height": null,
            "justify_content": null,
            "justify_items": null,
            "left": null,
            "margin": null,
            "max_height": null,
            "max_width": null,
            "min_height": null,
            "min_width": null,
            "object_fit": null,
            "object_position": null,
            "order": null,
            "overflow": null,
            "overflow_x": null,
            "overflow_y": null,
            "padding": null,
            "right": null,
            "top": null,
            "visibility": null,
            "width": null
          }
        },
        "24e0700450904104b456039ea61be1ff": {
          "model_module": "@jupyter-widgets/controls",
          "model_name": "DescriptionStyleModel",
          "model_module_version": "1.5.0",
          "state": {
            "_model_module": "@jupyter-widgets/controls",
            "_model_module_version": "1.5.0",
            "_model_name": "DescriptionStyleModel",
            "_view_count": null,
            "_view_module": "@jupyter-widgets/base",
            "_view_module_version": "1.2.0",
            "_view_name": "StyleView",
            "description_width": ""
          }
        },
        "b04c034824d54bdc82b919a6773c2d7d": {
          "model_module": "@jupyter-widgets/base",
          "model_name": "LayoutModel",
          "model_module_version": "1.2.0",
          "state": {
            "_model_module": "@jupyter-widgets/base",
            "_model_module_version": "1.2.0",
            "_model_name": "LayoutModel",
            "_view_count": null,
            "_view_module": "@jupyter-widgets/base",
            "_view_module_version": "1.2.0",
            "_view_name": "LayoutView",
            "align_content": null,
            "align_items": null,
            "align_self": null,
            "border": null,
            "bottom": null,
            "display": null,
            "flex": null,
            "flex_flow": null,
            "grid_area": null,
            "grid_auto_columns": null,
            "grid_auto_flow": null,
            "grid_auto_rows": null,
            "grid_column": null,
            "grid_gap": null,
            "grid_row": null,
            "grid_template_areas": null,
            "grid_template_columns": null,
            "grid_template_rows": null,
            "height": null,
            "justify_content": null,
            "justify_items": null,
            "left": null,
            "margin": null,
            "max_height": null,
            "max_width": null,
            "min_height": null,
            "min_width": null,
            "object_fit": null,
            "object_position": null,
            "order": null,
            "overflow": null,
            "overflow_x": null,
            "overflow_y": null,
            "padding": null,
            "right": null,
            "top": null,
            "visibility": null,
            "width": null
          }
        },
        "eab1b5d987364c59b62bf2e4e5246850": {
          "model_module": "@jupyter-widgets/controls",
          "model_name": "ProgressStyleModel",
          "model_module_version": "1.5.0",
          "state": {
            "_model_module": "@jupyter-widgets/controls",
            "_model_module_version": "1.5.0",
            "_model_name": "ProgressStyleModel",
            "_view_count": null,
            "_view_module": "@jupyter-widgets/base",
            "_view_module_version": "1.2.0",
            "_view_name": "StyleView",
            "bar_color": null,
            "description_width": ""
          }
        },
        "2798ee36c3ce491294480d94eaf56553": {
          "model_module": "@jupyter-widgets/base",
          "model_name": "LayoutModel",
          "model_module_version": "1.2.0",
          "state": {
            "_model_module": "@jupyter-widgets/base",
            "_model_module_version": "1.2.0",
            "_model_name": "LayoutModel",
            "_view_count": null,
            "_view_module": "@jupyter-widgets/base",
            "_view_module_version": "1.2.0",
            "_view_name": "LayoutView",
            "align_content": null,
            "align_items": null,
            "align_self": null,
            "border": null,
            "bottom": null,
            "display": null,
            "flex": null,
            "flex_flow": null,
            "grid_area": null,
            "grid_auto_columns": null,
            "grid_auto_flow": null,
            "grid_auto_rows": null,
            "grid_column": null,
            "grid_gap": null,
            "grid_row": null,
            "grid_template_areas": null,
            "grid_template_columns": null,
            "grid_template_rows": null,
            "height": null,
            "justify_content": null,
            "justify_items": null,
            "left": null,
            "margin": null,
            "max_height": null,
            "max_width": null,
            "min_height": null,
            "min_width": null,
            "object_fit": null,
            "object_position": null,
            "order": null,
            "overflow": null,
            "overflow_x": null,
            "overflow_y": null,
            "padding": null,
            "right": null,
            "top": null,
            "visibility": null,
            "width": null
          }
        },
        "8ed1f46263c849449e78a1cef6e5ec2b": {
          "model_module": "@jupyter-widgets/controls",
          "model_name": "DescriptionStyleModel",
          "model_module_version": "1.5.0",
          "state": {
            "_model_module": "@jupyter-widgets/controls",
            "_model_module_version": "1.5.0",
            "_model_name": "DescriptionStyleModel",
            "_view_count": null,
            "_view_module": "@jupyter-widgets/base",
            "_view_module_version": "1.2.0",
            "_view_name": "StyleView",
            "description_width": ""
          }
        },
        "ea49e6aa148047528c3c210e7cf383ba": {
          "model_module": "@jupyter-widgets/controls",
          "model_name": "HBoxModel",
          "model_module_version": "1.5.0",
          "state": {
            "_dom_classes": [],
            "_model_module": "@jupyter-widgets/controls",
            "_model_module_version": "1.5.0",
            "_model_name": "HBoxModel",
            "_view_count": null,
            "_view_module": "@jupyter-widgets/controls",
            "_view_module_version": "1.5.0",
            "_view_name": "HBoxView",
            "box_style": "",
            "children": [
              "IPY_MODEL_c8ada22de2244101831f8008f8ba2571",
              "IPY_MODEL_9ae63eed354e44d4a7288ebecc298e3a",
              "IPY_MODEL_7bac5c2f99e440a196ebb485dcba778c"
            ],
            "layout": "IPY_MODEL_71e3ba168cba449d91cfe1af6600e4df"
          }
        },
        "c8ada22de2244101831f8008f8ba2571": {
          "model_module": "@jupyter-widgets/controls",
          "model_name": "HTMLModel",
          "model_module_version": "1.5.0",
          "state": {
            "_dom_classes": [],
            "_model_module": "@jupyter-widgets/controls",
            "_model_module_version": "1.5.0",
            "_model_name": "HTMLModel",
            "_view_count": null,
            "_view_module": "@jupyter-widgets/controls",
            "_view_module_version": "1.5.0",
            "_view_name": "HTMLView",
            "description": "",
            "description_tooltip": null,
            "layout": "IPY_MODEL_ea21eca9240b47149574d18a5a028767",
            "placeholder": "​",
            "style": "IPY_MODEL_d69b0ac864c2471bb1db90fd77a23bb3",
            "value": "100%"
          }
        },
        "9ae63eed354e44d4a7288ebecc298e3a": {
          "model_module": "@jupyter-widgets/controls",
          "model_name": "FloatProgressModel",
          "model_module_version": "1.5.0",
          "state": {
            "_dom_classes": [],
            "_model_module": "@jupyter-widgets/controls",
            "_model_module_version": "1.5.0",
            "_model_name": "FloatProgressModel",
            "_view_count": null,
            "_view_module": "@jupyter-widgets/controls",
            "_view_module_version": "1.5.0",
            "_view_name": "ProgressView",
            "bar_style": "success",
            "description": "",
            "description_tooltip": null,
            "layout": "IPY_MODEL_541a94e4488b454bb2c95063a2a220c2",
            "max": 28881,
            "min": 0,
            "orientation": "horizontal",
            "style": "IPY_MODEL_2f765de9971e48feab6a9a09ae3fbe10",
            "value": 28881
          }
        },
        "7bac5c2f99e440a196ebb485dcba778c": {
          "model_module": "@jupyter-widgets/controls",
          "model_name": "HTMLModel",
          "model_module_version": "1.5.0",
          "state": {
            "_dom_classes": [],
            "_model_module": "@jupyter-widgets/controls",
            "_model_module_version": "1.5.0",
            "_model_name": "HTMLModel",
            "_view_count": null,
            "_view_module": "@jupyter-widgets/controls",
            "_view_module_version": "1.5.0",
            "_view_name": "HTMLView",
            "description": "",
            "description_tooltip": null,
            "layout": "IPY_MODEL_03d113edb06042c08e264c76c4fd69f1",
            "placeholder": "​",
            "style": "IPY_MODEL_022b60c8ea0a43bdbeddddf5a89c3814",
            "value": " 28881/28881 [00:00&lt;00:00, 1748595.38it/s]"
          }
        },
        "71e3ba168cba449d91cfe1af6600e4df": {
          "model_module": "@jupyter-widgets/base",
          "model_name": "LayoutModel",
          "model_module_version": "1.2.0",
          "state": {
            "_model_module": "@jupyter-widgets/base",
            "_model_module_version": "1.2.0",
            "_model_name": "LayoutModel",
            "_view_count": null,
            "_view_module": "@jupyter-widgets/base",
            "_view_module_version": "1.2.0",
            "_view_name": "LayoutView",
            "align_content": null,
            "align_items": null,
            "align_self": null,
            "border": null,
            "bottom": null,
            "display": null,
            "flex": null,
            "flex_flow": null,
            "grid_area": null,
            "grid_auto_columns": null,
            "grid_auto_flow": null,
            "grid_auto_rows": null,
            "grid_column": null,
            "grid_gap": null,
            "grid_row": null,
            "grid_template_areas": null,
            "grid_template_columns": null,
            "grid_template_rows": null,
            "height": null,
            "justify_content": null,
            "justify_items": null,
            "left": null,
            "margin": null,
            "max_height": null,
            "max_width": null,
            "min_height": null,
            "min_width": null,
            "object_fit": null,
            "object_position": null,
            "order": null,
            "overflow": null,
            "overflow_x": null,
            "overflow_y": null,
            "padding": null,
            "right": null,
            "top": null,
            "visibility": null,
            "width": null
          }
        },
        "ea21eca9240b47149574d18a5a028767": {
          "model_module": "@jupyter-widgets/base",
          "model_name": "LayoutModel",
          "model_module_version": "1.2.0",
          "state": {
            "_model_module": "@jupyter-widgets/base",
            "_model_module_version": "1.2.0",
            "_model_name": "LayoutModel",
            "_view_count": null,
            "_view_module": "@jupyter-widgets/base",
            "_view_module_version": "1.2.0",
            "_view_name": "LayoutView",
            "align_content": null,
            "align_items": null,
            "align_self": null,
            "border": null,
            "bottom": null,
            "display": null,
            "flex": null,
            "flex_flow": null,
            "grid_area": null,
            "grid_auto_columns": null,
            "grid_auto_flow": null,
            "grid_auto_rows": null,
            "grid_column": null,
            "grid_gap": null,
            "grid_row": null,
            "grid_template_areas": null,
            "grid_template_columns": null,
            "grid_template_rows": null,
            "height": null,
            "justify_content": null,
            "justify_items": null,
            "left": null,
            "margin": null,
            "max_height": null,
            "max_width": null,
            "min_height": null,
            "min_width": null,
            "object_fit": null,
            "object_position": null,
            "order": null,
            "overflow": null,
            "overflow_x": null,
            "overflow_y": null,
            "padding": null,
            "right": null,
            "top": null,
            "visibility": null,
            "width": null
          }
        },
        "d69b0ac864c2471bb1db90fd77a23bb3": {
          "model_module": "@jupyter-widgets/controls",
          "model_name": "DescriptionStyleModel",
          "model_module_version": "1.5.0",
          "state": {
            "_model_module": "@jupyter-widgets/controls",
            "_model_module_version": "1.5.0",
            "_model_name": "DescriptionStyleModel",
            "_view_count": null,
            "_view_module": "@jupyter-widgets/base",
            "_view_module_version": "1.2.0",
            "_view_name": "StyleView",
            "description_width": ""
          }
        },
        "541a94e4488b454bb2c95063a2a220c2": {
          "model_module": "@jupyter-widgets/base",
          "model_name": "LayoutModel",
          "model_module_version": "1.2.0",
          "state": {
            "_model_module": "@jupyter-widgets/base",
            "_model_module_version": "1.2.0",
            "_model_name": "LayoutModel",
            "_view_count": null,
            "_view_module": "@jupyter-widgets/base",
            "_view_module_version": "1.2.0",
            "_view_name": "LayoutView",
            "align_content": null,
            "align_items": null,
            "align_self": null,
            "border": null,
            "bottom": null,
            "display": null,
            "flex": null,
            "flex_flow": null,
            "grid_area": null,
            "grid_auto_columns": null,
            "grid_auto_flow": null,
            "grid_auto_rows": null,
            "grid_column": null,
            "grid_gap": null,
            "grid_row": null,
            "grid_template_areas": null,
            "grid_template_columns": null,
            "grid_template_rows": null,
            "height": null,
            "justify_content": null,
            "justify_items": null,
            "left": null,
            "margin": null,
            "max_height": null,
            "max_width": null,
            "min_height": null,
            "min_width": null,
            "object_fit": null,
            "object_position": null,
            "order": null,
            "overflow": null,
            "overflow_x": null,
            "overflow_y": null,
            "padding": null,
            "right": null,
            "top": null,
            "visibility": null,
            "width": null
          }
        },
        "2f765de9971e48feab6a9a09ae3fbe10": {
          "model_module": "@jupyter-widgets/controls",
          "model_name": "ProgressStyleModel",
          "model_module_version": "1.5.0",
          "state": {
            "_model_module": "@jupyter-widgets/controls",
            "_model_module_version": "1.5.0",
            "_model_name": "ProgressStyleModel",
            "_view_count": null,
            "_view_module": "@jupyter-widgets/base",
            "_view_module_version": "1.2.0",
            "_view_name": "StyleView",
            "bar_color": null,
            "description_width": ""
          }
        },
        "03d113edb06042c08e264c76c4fd69f1": {
          "model_module": "@jupyter-widgets/base",
          "model_name": "LayoutModel",
          "model_module_version": "1.2.0",
          "state": {
            "_model_module": "@jupyter-widgets/base",
            "_model_module_version": "1.2.0",
            "_model_name": "LayoutModel",
            "_view_count": null,
            "_view_module": "@jupyter-widgets/base",
            "_view_module_version": "1.2.0",
            "_view_name": "LayoutView",
            "align_content": null,
            "align_items": null,
            "align_self": null,
            "border": null,
            "bottom": null,
            "display": null,
            "flex": null,
            "flex_flow": null,
            "grid_area": null,
            "grid_auto_columns": null,
            "grid_auto_flow": null,
            "grid_auto_rows": null,
            "grid_column": null,
            "grid_gap": null,
            "grid_row": null,
            "grid_template_areas": null,
            "grid_template_columns": null,
            "grid_template_rows": null,
            "height": null,
            "justify_content": null,
            "justify_items": null,
            "left": null,
            "margin": null,
            "max_height": null,
            "max_width": null,
            "min_height": null,
            "min_width": null,
            "object_fit": null,
            "object_position": null,
            "order": null,
            "overflow": null,
            "overflow_x": null,
            "overflow_y": null,
            "padding": null,
            "right": null,
            "top": null,
            "visibility": null,
            "width": null
          }
        },
        "022b60c8ea0a43bdbeddddf5a89c3814": {
          "model_module": "@jupyter-widgets/controls",
          "model_name": "DescriptionStyleModel",
          "model_module_version": "1.5.0",
          "state": {
            "_model_module": "@jupyter-widgets/controls",
            "_model_module_version": "1.5.0",
            "_model_name": "DescriptionStyleModel",
            "_view_count": null,
            "_view_module": "@jupyter-widgets/base",
            "_view_module_version": "1.2.0",
            "_view_name": "StyleView",
            "description_width": ""
          }
        },
        "dc126fff2c7e47b19e8e2c13201d278b": {
          "model_module": "@jupyter-widgets/controls",
          "model_name": "HBoxModel",
          "model_module_version": "1.5.0",
          "state": {
            "_dom_classes": [],
            "_model_module": "@jupyter-widgets/controls",
            "_model_module_version": "1.5.0",
            "_model_name": "HBoxModel",
            "_view_count": null,
            "_view_module": "@jupyter-widgets/controls",
            "_view_module_version": "1.5.0",
            "_view_name": "HBoxView",
            "box_style": "",
            "children": [
              "IPY_MODEL_13d38e3015a24d6cab85a6e143f4e40b",
              "IPY_MODEL_34bb51e00b1c44ca88a09bad92d2e068",
              "IPY_MODEL_519b1213bad3473095517f151c173e14"
            ],
            "layout": "IPY_MODEL_fa621a25ccdd4a83a5841eb8c6b4cb29"
          }
        },
        "13d38e3015a24d6cab85a6e143f4e40b": {
          "model_module": "@jupyter-widgets/controls",
          "model_name": "HTMLModel",
          "model_module_version": "1.5.0",
          "state": {
            "_dom_classes": [],
            "_model_module": "@jupyter-widgets/controls",
            "_model_module_version": "1.5.0",
            "_model_name": "HTMLModel",
            "_view_count": null,
            "_view_module": "@jupyter-widgets/controls",
            "_view_module_version": "1.5.0",
            "_view_name": "HTMLView",
            "description": "",
            "description_tooltip": null,
            "layout": "IPY_MODEL_7fffc491dd6642afb31671d0e8b4581b",
            "placeholder": "​",
            "style": "IPY_MODEL_9285df93822c4489ace868cd56df7c06",
            "value": "100%"
          }
        },
        "34bb51e00b1c44ca88a09bad92d2e068": {
          "model_module": "@jupyter-widgets/controls",
          "model_name": "FloatProgressModel",
          "model_module_version": "1.5.0",
          "state": {
            "_dom_classes": [],
            "_model_module": "@jupyter-widgets/controls",
            "_model_module_version": "1.5.0",
            "_model_name": "FloatProgressModel",
            "_view_count": null,
            "_view_module": "@jupyter-widgets/controls",
            "_view_module_version": "1.5.0",
            "_view_name": "ProgressView",
            "bar_style": "success",
            "description": "",
            "description_tooltip": null,
            "layout": "IPY_MODEL_22b4e1aa8e5c4c9684a532c46c8e229c",
            "max": 1648877,
            "min": 0,
            "orientation": "horizontal",
            "style": "IPY_MODEL_48e9b5aff9b14447ab19e4b60e5c3e39",
            "value": 1648877
          }
        },
        "519b1213bad3473095517f151c173e14": {
          "model_module": "@jupyter-widgets/controls",
          "model_name": "HTMLModel",
          "model_module_version": "1.5.0",
          "state": {
            "_dom_classes": [],
            "_model_module": "@jupyter-widgets/controls",
            "_model_module_version": "1.5.0",
            "_model_name": "HTMLModel",
            "_view_count": null,
            "_view_module": "@jupyter-widgets/controls",
            "_view_module_version": "1.5.0",
            "_view_name": "HTMLView",
            "description": "",
            "description_tooltip": null,
            "layout": "IPY_MODEL_3a41f316a7dc44388976635d32718fc0",
            "placeholder": "​",
            "style": "IPY_MODEL_13d6fc310a0645dcb6ea8d870c68388c",
            "value": " 1648877/1648877 [00:00&lt;00:00, 43142350.76it/s]"
          }
        },
        "fa621a25ccdd4a83a5841eb8c6b4cb29": {
          "model_module": "@jupyter-widgets/base",
          "model_name": "LayoutModel",
          "model_module_version": "1.2.0",
          "state": {
            "_model_module": "@jupyter-widgets/base",
            "_model_module_version": "1.2.0",
            "_model_name": "LayoutModel",
            "_view_count": null,
            "_view_module": "@jupyter-widgets/base",
            "_view_module_version": "1.2.0",
            "_view_name": "LayoutView",
            "align_content": null,
            "align_items": null,
            "align_self": null,
            "border": null,
            "bottom": null,
            "display": null,
            "flex": null,
            "flex_flow": null,
            "grid_area": null,
            "grid_auto_columns": null,
            "grid_auto_flow": null,
            "grid_auto_rows": null,
            "grid_column": null,
            "grid_gap": null,
            "grid_row": null,
            "grid_template_areas": null,
            "grid_template_columns": null,
            "grid_template_rows": null,
            "height": null,
            "justify_content": null,
            "justify_items": null,
            "left": null,
            "margin": null,
            "max_height": null,
            "max_width": null,
            "min_height": null,
            "min_width": null,
            "object_fit": null,
            "object_position": null,
            "order": null,
            "overflow": null,
            "overflow_x": null,
            "overflow_y": null,
            "padding": null,
            "right": null,
            "top": null,
            "visibility": null,
            "width": null
          }
        },
        "7fffc491dd6642afb31671d0e8b4581b": {
          "model_module": "@jupyter-widgets/base",
          "model_name": "LayoutModel",
          "model_module_version": "1.2.0",
          "state": {
            "_model_module": "@jupyter-widgets/base",
            "_model_module_version": "1.2.0",
            "_model_name": "LayoutModel",
            "_view_count": null,
            "_view_module": "@jupyter-widgets/base",
            "_view_module_version": "1.2.0",
            "_view_name": "LayoutView",
            "align_content": null,
            "align_items": null,
            "align_self": null,
            "border": null,
            "bottom": null,
            "display": null,
            "flex": null,
            "flex_flow": null,
            "grid_area": null,
            "grid_auto_columns": null,
            "grid_auto_flow": null,
            "grid_auto_rows": null,
            "grid_column": null,
            "grid_gap": null,
            "grid_row": null,
            "grid_template_areas": null,
            "grid_template_columns": null,
            "grid_template_rows": null,
            "height": null,
            "justify_content": null,
            "justify_items": null,
            "left": null,
            "margin": null,
            "max_height": null,
            "max_width": null,
            "min_height": null,
            "min_width": null,
            "object_fit": null,
            "object_position": null,
            "order": null,
            "overflow": null,
            "overflow_x": null,
            "overflow_y": null,
            "padding": null,
            "right": null,
            "top": null,
            "visibility": null,
            "width": null
          }
        },
        "9285df93822c4489ace868cd56df7c06": {
          "model_module": "@jupyter-widgets/controls",
          "model_name": "DescriptionStyleModel",
          "model_module_version": "1.5.0",
          "state": {
            "_model_module": "@jupyter-widgets/controls",
            "_model_module_version": "1.5.0",
            "_model_name": "DescriptionStyleModel",
            "_view_count": null,
            "_view_module": "@jupyter-widgets/base",
            "_view_module_version": "1.2.0",
            "_view_name": "StyleView",
            "description_width": ""
          }
        },
        "22b4e1aa8e5c4c9684a532c46c8e229c": {
          "model_module": "@jupyter-widgets/base",
          "model_name": "LayoutModel",
          "model_module_version": "1.2.0",
          "state": {
            "_model_module": "@jupyter-widgets/base",
            "_model_module_version": "1.2.0",
            "_model_name": "LayoutModel",
            "_view_count": null,
            "_view_module": "@jupyter-widgets/base",
            "_view_module_version": "1.2.0",
            "_view_name": "LayoutView",
            "align_content": null,
            "align_items": null,
            "align_self": null,
            "border": null,
            "bottom": null,
            "display": null,
            "flex": null,
            "flex_flow": null,
            "grid_area": null,
            "grid_auto_columns": null,
            "grid_auto_flow": null,
            "grid_auto_rows": null,
            "grid_column": null,
            "grid_gap": null,
            "grid_row": null,
            "grid_template_areas": null,
            "grid_template_columns": null,
            "grid_template_rows": null,
            "height": null,
            "justify_content": null,
            "justify_items": null,
            "left": null,
            "margin": null,
            "max_height": null,
            "max_width": null,
            "min_height": null,
            "min_width": null,
            "object_fit": null,
            "object_position": null,
            "order": null,
            "overflow": null,
            "overflow_x": null,
            "overflow_y": null,
            "padding": null,
            "right": null,
            "top": null,
            "visibility": null,
            "width": null
          }
        },
        "48e9b5aff9b14447ab19e4b60e5c3e39": {
          "model_module": "@jupyter-widgets/controls",
          "model_name": "ProgressStyleModel",
          "model_module_version": "1.5.0",
          "state": {
            "_model_module": "@jupyter-widgets/controls",
            "_model_module_version": "1.5.0",
            "_model_name": "ProgressStyleModel",
            "_view_count": null,
            "_view_module": "@jupyter-widgets/base",
            "_view_module_version": "1.2.0",
            "_view_name": "StyleView",
            "bar_color": null,
            "description_width": ""
          }
        },
        "3a41f316a7dc44388976635d32718fc0": {
          "model_module": "@jupyter-widgets/base",
          "model_name": "LayoutModel",
          "model_module_version": "1.2.0",
          "state": {
            "_model_module": "@jupyter-widgets/base",
            "_model_module_version": "1.2.0",
            "_model_name": "LayoutModel",
            "_view_count": null,
            "_view_module": "@jupyter-widgets/base",
            "_view_module_version": "1.2.0",
            "_view_name": "LayoutView",
            "align_content": null,
            "align_items": null,
            "align_self": null,
            "border": null,
            "bottom": null,
            "display": null,
            "flex": null,
            "flex_flow": null,
            "grid_area": null,
            "grid_auto_columns": null,
            "grid_auto_flow": null,
            "grid_auto_rows": null,
            "grid_column": null,
            "grid_gap": null,
            "grid_row": null,
            "grid_template_areas": null,
            "grid_template_columns": null,
            "grid_template_rows": null,
            "height": null,
            "justify_content": null,
            "justify_items": null,
            "left": null,
            "margin": null,
            "max_height": null,
            "max_width": null,
            "min_height": null,
            "min_width": null,
            "object_fit": null,
            "object_position": null,
            "order": null,
            "overflow": null,
            "overflow_x": null,
            "overflow_y": null,
            "padding": null,
            "right": null,
            "top": null,
            "visibility": null,
            "width": null
          }
        },
        "13d6fc310a0645dcb6ea8d870c68388c": {
          "model_module": "@jupyter-widgets/controls",
          "model_name": "DescriptionStyleModel",
          "model_module_version": "1.5.0",
          "state": {
            "_model_module": "@jupyter-widgets/controls",
            "_model_module_version": "1.5.0",
            "_model_name": "DescriptionStyleModel",
            "_view_count": null,
            "_view_module": "@jupyter-widgets/base",
            "_view_module_version": "1.2.0",
            "_view_name": "StyleView",
            "description_width": ""
          }
        },
        "035a10587ba44871ae3d5eafa6659b23": {
          "model_module": "@jupyter-widgets/controls",
          "model_name": "HBoxModel",
          "model_module_version": "1.5.0",
          "state": {
            "_dom_classes": [],
            "_model_module": "@jupyter-widgets/controls",
            "_model_module_version": "1.5.0",
            "_model_name": "HBoxModel",
            "_view_count": null,
            "_view_module": "@jupyter-widgets/controls",
            "_view_module_version": "1.5.0",
            "_view_name": "HBoxView",
            "box_style": "",
            "children": [
              "IPY_MODEL_c51c8c2b5dc549abafeb340509f416d7",
              "IPY_MODEL_5e1f6274b3b34de09a67848e2514b709",
              "IPY_MODEL_a8d235e11ffa415bb90079e287fb37a5"
            ],
            "layout": "IPY_MODEL_c10e2b2c6f6c407dbfaf0b9afafe0d74"
          }
        },
        "c51c8c2b5dc549abafeb340509f416d7": {
          "model_module": "@jupyter-widgets/controls",
          "model_name": "HTMLModel",
          "model_module_version": "1.5.0",
          "state": {
            "_dom_classes": [],
            "_model_module": "@jupyter-widgets/controls",
            "_model_module_version": "1.5.0",
            "_model_name": "HTMLModel",
            "_view_count": null,
            "_view_module": "@jupyter-widgets/controls",
            "_view_module_version": "1.5.0",
            "_view_name": "HTMLView",
            "description": "",
            "description_tooltip": null,
            "layout": "IPY_MODEL_f80977a519dc43d8aab3716c490cbd03",
            "placeholder": "​",
            "style": "IPY_MODEL_01d4077a0b8b493f88aec483f98d941e",
            "value": "100%"
          }
        },
        "5e1f6274b3b34de09a67848e2514b709": {
          "model_module": "@jupyter-widgets/controls",
          "model_name": "FloatProgressModel",
          "model_module_version": "1.5.0",
          "state": {
            "_dom_classes": [],
            "_model_module": "@jupyter-widgets/controls",
            "_model_module_version": "1.5.0",
            "_model_name": "FloatProgressModel",
            "_view_count": null,
            "_view_module": "@jupyter-widgets/controls",
            "_view_module_version": "1.5.0",
            "_view_name": "ProgressView",
            "bar_style": "success",
            "description": "",
            "description_tooltip": null,
            "layout": "IPY_MODEL_b0dcf5fb63564651b9869dc4f06adc7b",
            "max": 4542,
            "min": 0,
            "orientation": "horizontal",
            "style": "IPY_MODEL_6b46353b10af44fe9cf39f5e1f3640a9",
            "value": 4542
          }
        },
        "a8d235e11ffa415bb90079e287fb37a5": {
          "model_module": "@jupyter-widgets/controls",
          "model_name": "HTMLModel",
          "model_module_version": "1.5.0",
          "state": {
            "_dom_classes": [],
            "_model_module": "@jupyter-widgets/controls",
            "_model_module_version": "1.5.0",
            "_model_name": "HTMLModel",
            "_view_count": null,
            "_view_module": "@jupyter-widgets/controls",
            "_view_module_version": "1.5.0",
            "_view_name": "HTMLView",
            "description": "",
            "description_tooltip": null,
            "layout": "IPY_MODEL_31770dfc758744e7b1a2df634d1d9951",
            "placeholder": "​",
            "style": "IPY_MODEL_b4d9e8aadcbc4d99a75257882191c66c",
            "value": " 4542/4542 [00:00&lt;00:00, 209436.23it/s]"
          }
        },
        "c10e2b2c6f6c407dbfaf0b9afafe0d74": {
          "model_module": "@jupyter-widgets/base",
          "model_name": "LayoutModel",
          "model_module_version": "1.2.0",
          "state": {
            "_model_module": "@jupyter-widgets/base",
            "_model_module_version": "1.2.0",
            "_model_name": "LayoutModel",
            "_view_count": null,
            "_view_module": "@jupyter-widgets/base",
            "_view_module_version": "1.2.0",
            "_view_name": "LayoutView",
            "align_content": null,
            "align_items": null,
            "align_self": null,
            "border": null,
            "bottom": null,
            "display": null,
            "flex": null,
            "flex_flow": null,
            "grid_area": null,
            "grid_auto_columns": null,
            "grid_auto_flow": null,
            "grid_auto_rows": null,
            "grid_column": null,
            "grid_gap": null,
            "grid_row": null,
            "grid_template_areas": null,
            "grid_template_columns": null,
            "grid_template_rows": null,
            "height": null,
            "justify_content": null,
            "justify_items": null,
            "left": null,
            "margin": null,
            "max_height": null,
            "max_width": null,
            "min_height": null,
            "min_width": null,
            "object_fit": null,
            "object_position": null,
            "order": null,
            "overflow": null,
            "overflow_x": null,
            "overflow_y": null,
            "padding": null,
            "right": null,
            "top": null,
            "visibility": null,
            "width": null
          }
        },
        "f80977a519dc43d8aab3716c490cbd03": {
          "model_module": "@jupyter-widgets/base",
          "model_name": "LayoutModel",
          "model_module_version": "1.2.0",
          "state": {
            "_model_module": "@jupyter-widgets/base",
            "_model_module_version": "1.2.0",
            "_model_name": "LayoutModel",
            "_view_count": null,
            "_view_module": "@jupyter-widgets/base",
            "_view_module_version": "1.2.0",
            "_view_name": "LayoutView",
            "align_content": null,
            "align_items": null,
            "align_self": null,
            "border": null,
            "bottom": null,
            "display": null,
            "flex": null,
            "flex_flow": null,
            "grid_area": null,
            "grid_auto_columns": null,
            "grid_auto_flow": null,
            "grid_auto_rows": null,
            "grid_column": null,
            "grid_gap": null,
            "grid_row": null,
            "grid_template_areas": null,
            "grid_template_columns": null,
            "grid_template_rows": null,
            "height": null,
            "justify_content": null,
            "justify_items": null,
            "left": null,
            "margin": null,
            "max_height": null,
            "max_width": null,
            "min_height": null,
            "min_width": null,
            "object_fit": null,
            "object_position": null,
            "order": null,
            "overflow": null,
            "overflow_x": null,
            "overflow_y": null,
            "padding": null,
            "right": null,
            "top": null,
            "visibility": null,
            "width": null
          }
        },
        "01d4077a0b8b493f88aec483f98d941e": {
          "model_module": "@jupyter-widgets/controls",
          "model_name": "DescriptionStyleModel",
          "model_module_version": "1.5.0",
          "state": {
            "_model_module": "@jupyter-widgets/controls",
            "_model_module_version": "1.5.0",
            "_model_name": "DescriptionStyleModel",
            "_view_count": null,
            "_view_module": "@jupyter-widgets/base",
            "_view_module_version": "1.2.0",
            "_view_name": "StyleView",
            "description_width": ""
          }
        },
        "b0dcf5fb63564651b9869dc4f06adc7b": {
          "model_module": "@jupyter-widgets/base",
          "model_name": "LayoutModel",
          "model_module_version": "1.2.0",
          "state": {
            "_model_module": "@jupyter-widgets/base",
            "_model_module_version": "1.2.0",
            "_model_name": "LayoutModel",
            "_view_count": null,
            "_view_module": "@jupyter-widgets/base",
            "_view_module_version": "1.2.0",
            "_view_name": "LayoutView",
            "align_content": null,
            "align_items": null,
            "align_self": null,
            "border": null,
            "bottom": null,
            "display": null,
            "flex": null,
            "flex_flow": null,
            "grid_area": null,
            "grid_auto_columns": null,
            "grid_auto_flow": null,
            "grid_auto_rows": null,
            "grid_column": null,
            "grid_gap": null,
            "grid_row": null,
            "grid_template_areas": null,
            "grid_template_columns": null,
            "grid_template_rows": null,
            "height": null,
            "justify_content": null,
            "justify_items": null,
            "left": null,
            "margin": null,
            "max_height": null,
            "max_width": null,
            "min_height": null,
            "min_width": null,
            "object_fit": null,
            "object_position": null,
            "order": null,
            "overflow": null,
            "overflow_x": null,
            "overflow_y": null,
            "padding": null,
            "right": null,
            "top": null,
            "visibility": null,
            "width": null
          }
        },
        "6b46353b10af44fe9cf39f5e1f3640a9": {
          "model_module": "@jupyter-widgets/controls",
          "model_name": "ProgressStyleModel",
          "model_module_version": "1.5.0",
          "state": {
            "_model_module": "@jupyter-widgets/controls",
            "_model_module_version": "1.5.0",
            "_model_name": "ProgressStyleModel",
            "_view_count": null,
            "_view_module": "@jupyter-widgets/base",
            "_view_module_version": "1.2.0",
            "_view_name": "StyleView",
            "bar_color": null,
            "description_width": ""
          }
        },
        "31770dfc758744e7b1a2df634d1d9951": {
          "model_module": "@jupyter-widgets/base",
          "model_name": "LayoutModel",
          "model_module_version": "1.2.0",
          "state": {
            "_model_module": "@jupyter-widgets/base",
            "_model_module_version": "1.2.0",
            "_model_name": "LayoutModel",
            "_view_count": null,
            "_view_module": "@jupyter-widgets/base",
            "_view_module_version": "1.2.0",
            "_view_name": "LayoutView",
            "align_content": null,
            "align_items": null,
            "align_self": null,
            "border": null,
            "bottom": null,
            "display": null,
            "flex": null,
            "flex_flow": null,
            "grid_area": null,
            "grid_auto_columns": null,
            "grid_auto_flow": null,
            "grid_auto_rows": null,
            "grid_column": null,
            "grid_gap": null,
            "grid_row": null,
            "grid_template_areas": null,
            "grid_template_columns": null,
            "grid_template_rows": null,
            "height": null,
            "justify_content": null,
            "justify_items": null,
            "left": null,
            "margin": null,
            "max_height": null,
            "max_width": null,
            "min_height": null,
            "min_width": null,
            "object_fit": null,
            "object_position": null,
            "order": null,
            "overflow": null,
            "overflow_x": null,
            "overflow_y": null,
            "padding": null,
            "right": null,
            "top": null,
            "visibility": null,
            "width": null
          }
        },
        "b4d9e8aadcbc4d99a75257882191c66c": {
          "model_module": "@jupyter-widgets/controls",
          "model_name": "DescriptionStyleModel",
          "model_module_version": "1.5.0",
          "state": {
            "_model_module": "@jupyter-widgets/controls",
            "_model_module_version": "1.5.0",
            "_model_name": "DescriptionStyleModel",
            "_view_count": null,
            "_view_module": "@jupyter-widgets/base",
            "_view_module_version": "1.2.0",
            "_view_name": "StyleView",
            "description_width": ""
          }
        }
      }
    }
  },
  "cells": [
    {
      "cell_type": "markdown",
      "source": [
        "# Question 1:"
      ],
      "metadata": {
        "id": "WmsbIb-TyJgr"
      }
    },
    {
      "cell_type": "markdown",
      "source": [
        "Reqired Model details as given in the question:"
      ],
      "metadata": {
        "id": "ROarcE9FF2pb"
      }
    },
    {
      "cell_type": "code",
      "execution_count": 1,
      "metadata": {
        "colab": {
          "base_uri": "https://localhost:8080/"
        },
        "id": "vloPKpzS8jYt",
        "outputId": "bf4bf62f-82a1-4b9a-eab2-38b33c6828ae"
      },
      "outputs": [
        {
          "output_type": "stream",
          "name": "stdout",
          "text": [
            "FIRST:  Adarsh\n",
            "LAST:  Palaskar\n"
          ]
        }
      ],
      "source": [
        "# ABC = 087\n",
        "# DD = 07,      MM = 08,      YY = 02\n",
        "# MNIST dataset\n",
        "# Weight initialization = Xavier initialization\n",
        "# Data Augmentation = rotate by 10 degrees and gaussian noise.\n",
        "# Pooling = AvgPool\n",
        "# Targets = 1,3,5,7,9\n",
        "# Feature Extraction Layers = 5 conv layers and 1 pooling layer,    8 filters in 1st layer\n",
        "# 1 FC layer with 256 nodes\n",
        "\n",
        "print(\"FIRST: \", \"Adarsh\" )\n",
        "print(\"LAST: \", \"Palaskar\" )"
      ]
    },
    {
      "cell_type": "code",
      "source": [
        "import torch\n",
        "import torch.nn as nn \n",
        "import torch.optim as optim \n",
        "import torch.nn.functional as F \n",
        "\n",
        "import torchvision\n",
        "from torch.utils.data import DataLoader \n",
        "import torchvision.datasets as datasets\n",
        "import torchvision.transforms as transforms\n",
        "from torch.utils.data import random_split\n",
        "\n",
        "import matplotlib.pyplot as plt\n",
        "import numpy as np\n",
        "\n",
        "from sklearn.decomposition import PCA\n",
        "from sklearn.metrics import confusion_matrix, classification_report, precision_recall_curve, roc_auc_score, roc_curve\n"
      ],
      "metadata": {
        "id": "dkJtTQtrF17R"
      },
      "execution_count": 2,
      "outputs": []
    },
    {
      "cell_type": "code",
      "source": [
        "# Rotate the images by 10 degrees\n",
        "class Rotation(object):\n",
        "    def __init__(self, degrees):\n",
        "        self.degrees = degrees\n",
        "\n",
        "    def __call__(self, x):\n",
        "        return transforms.functional.rotate(x, self.degrees)\n",
        "\n",
        "# Add Gaussian noise to the images\n",
        "class AddGaussianNoise(object):\n",
        "    def __call__(self, x):\n",
        "        gaussian_noise = 0.3*np.random.normal(0.5, 0.5, size=x.shape)\n",
        "        x = x + gaussian_noise\n",
        "        return x\n",
        "\n",
        "class ClipDataset(object):\n",
        "    def __call__(self,x):\n",
        "        return np.clip(x,0,1)\n",
        "\n",
        "data_augmentations = [\n",
        "    Rotation(10),\n",
        "    AddGaussianNoise() ]\n",
        "\n",
        "\n",
        "transform = transforms.Compose([\n",
        "    transforms.ToTensor(),\n",
        "    transforms.Normalize((0.5,), (0.5,)),\n",
        "    transforms.RandomApply(data_augmentations,p=0.5),       # Randomly apply any 1 augmentation with a probabilty of 0.5 \n",
        "    ClipDataset()\n",
        "])\n"
      ],
      "metadata": {
        "id": "bHsemFLj9JBj"
      },
      "execution_count": 3,
      "outputs": []
    },
    {
      "cell_type": "code",
      "source": [
        "train_dataset = torchvision.datasets.MNIST(root='.', train=True, transform=transform, download=True)\n",
        "test_dataset = torchvision.datasets.MNIST(root='.', train=False, transform=transform, download=True)\n"
      ],
      "metadata": {
        "colab": {
          "base_uri": "https://localhost:8080/",
          "height": 423,
          "referenced_widgets": [
            "82f46ed636be4c39a9e894adf6207ff6",
            "66ce63109219409594a772684cf48030",
            "9c856f5e93124ad793c336940c749569",
            "b42a4f0de0074a5e80c039af4179d881",
            "d2be5b191b4d47ce863ee14c93134e89",
            "261e5f2907d844a4adf0e4652db6d686",
            "24e0700450904104b456039ea61be1ff",
            "b04c034824d54bdc82b919a6773c2d7d",
            "eab1b5d987364c59b62bf2e4e5246850",
            "2798ee36c3ce491294480d94eaf56553",
            "8ed1f46263c849449e78a1cef6e5ec2b",
            "ea49e6aa148047528c3c210e7cf383ba",
            "c8ada22de2244101831f8008f8ba2571",
            "9ae63eed354e44d4a7288ebecc298e3a",
            "7bac5c2f99e440a196ebb485dcba778c",
            "71e3ba168cba449d91cfe1af6600e4df",
            "ea21eca9240b47149574d18a5a028767",
            "d69b0ac864c2471bb1db90fd77a23bb3",
            "541a94e4488b454bb2c95063a2a220c2",
            "2f765de9971e48feab6a9a09ae3fbe10",
            "03d113edb06042c08e264c76c4fd69f1",
            "022b60c8ea0a43bdbeddddf5a89c3814",
            "dc126fff2c7e47b19e8e2c13201d278b",
            "13d38e3015a24d6cab85a6e143f4e40b",
            "34bb51e00b1c44ca88a09bad92d2e068",
            "519b1213bad3473095517f151c173e14",
            "fa621a25ccdd4a83a5841eb8c6b4cb29",
            "7fffc491dd6642afb31671d0e8b4581b",
            "9285df93822c4489ace868cd56df7c06",
            "22b4e1aa8e5c4c9684a532c46c8e229c",
            "48e9b5aff9b14447ab19e4b60e5c3e39",
            "3a41f316a7dc44388976635d32718fc0",
            "13d6fc310a0645dcb6ea8d870c68388c",
            "035a10587ba44871ae3d5eafa6659b23",
            "c51c8c2b5dc549abafeb340509f416d7",
            "5e1f6274b3b34de09a67848e2514b709",
            "a8d235e11ffa415bb90079e287fb37a5",
            "c10e2b2c6f6c407dbfaf0b9afafe0d74",
            "f80977a519dc43d8aab3716c490cbd03",
            "01d4077a0b8b493f88aec483f98d941e",
            "b0dcf5fb63564651b9869dc4f06adc7b",
            "6b46353b10af44fe9cf39f5e1f3640a9",
            "31770dfc758744e7b1a2df634d1d9951",
            "b4d9e8aadcbc4d99a75257882191c66c"
          ]
        },
        "id": "SDEdKQR5pPZe",
        "outputId": "141ac22c-6dad-47a3-87ac-8ce8fe42485f"
      },
      "execution_count": 4,
      "outputs": [
        {
          "output_type": "stream",
          "name": "stdout",
          "text": [
            "Downloading http://yann.lecun.com/exdb/mnist/train-images-idx3-ubyte.gz\n",
            "Downloading http://yann.lecun.com/exdb/mnist/train-images-idx3-ubyte.gz to ./MNIST/raw/train-images-idx3-ubyte.gz\n"
          ]
        },
        {
          "output_type": "display_data",
          "data": {
            "text/plain": [
              "  0%|          | 0/9912422 [00:00<?, ?it/s]"
            ],
            "application/vnd.jupyter.widget-view+json": {
              "version_major": 2,
              "version_minor": 0,
              "model_id": "82f46ed636be4c39a9e894adf6207ff6"
            }
          },
          "metadata": {}
        },
        {
          "output_type": "stream",
          "name": "stdout",
          "text": [
            "Extracting ./MNIST/raw/train-images-idx3-ubyte.gz to ./MNIST/raw\n",
            "\n",
            "Downloading http://yann.lecun.com/exdb/mnist/train-labels-idx1-ubyte.gz\n",
            "Downloading http://yann.lecun.com/exdb/mnist/train-labels-idx1-ubyte.gz to ./MNIST/raw/train-labels-idx1-ubyte.gz\n"
          ]
        },
        {
          "output_type": "display_data",
          "data": {
            "text/plain": [
              "  0%|          | 0/28881 [00:00<?, ?it/s]"
            ],
            "application/vnd.jupyter.widget-view+json": {
              "version_major": 2,
              "version_minor": 0,
              "model_id": "ea49e6aa148047528c3c210e7cf383ba"
            }
          },
          "metadata": {}
        },
        {
          "output_type": "stream",
          "name": "stdout",
          "text": [
            "Extracting ./MNIST/raw/train-labels-idx1-ubyte.gz to ./MNIST/raw\n",
            "\n",
            "Downloading http://yann.lecun.com/exdb/mnist/t10k-images-idx3-ubyte.gz\n",
            "Downloading http://yann.lecun.com/exdb/mnist/t10k-images-idx3-ubyte.gz to ./MNIST/raw/t10k-images-idx3-ubyte.gz\n"
          ]
        },
        {
          "output_type": "display_data",
          "data": {
            "text/plain": [
              "  0%|          | 0/1648877 [00:00<?, ?it/s]"
            ],
            "application/vnd.jupyter.widget-view+json": {
              "version_major": 2,
              "version_minor": 0,
              "model_id": "dc126fff2c7e47b19e8e2c13201d278b"
            }
          },
          "metadata": {}
        },
        {
          "output_type": "stream",
          "name": "stdout",
          "text": [
            "Extracting ./MNIST/raw/t10k-images-idx3-ubyte.gz to ./MNIST/raw\n",
            "\n",
            "Downloading http://yann.lecun.com/exdb/mnist/t10k-labels-idx1-ubyte.gz\n",
            "Downloading http://yann.lecun.com/exdb/mnist/t10k-labels-idx1-ubyte.gz to ./MNIST/raw/t10k-labels-idx1-ubyte.gz\n"
          ]
        },
        {
          "output_type": "display_data",
          "data": {
            "text/plain": [
              "  0%|          | 0/4542 [00:00<?, ?it/s]"
            ],
            "application/vnd.jupyter.widget-view+json": {
              "version_major": 2,
              "version_minor": 0,
              "model_id": "035a10587ba44871ae3d5eafa6659b23"
            }
          },
          "metadata": {}
        },
        {
          "output_type": "stream",
          "name": "stdout",
          "text": [
            "Extracting ./MNIST/raw/t10k-labels-idx1-ubyte.gz to ./MNIST/raw\n",
            "\n"
          ]
        }
      ]
    },
    {
      "cell_type": "markdown",
      "source": [
        "Filter the data to only keep classes 1, 3, 5, 7, and 9"
      ],
      "metadata": {
        "id": "CQotfyoTGSY9"
      }
    },
    {
      "cell_type": "code",
      "source": [
        "req_targets = torch.tensor([1, 3, 5, 7, 9])\n",
        "\n",
        "train_dataset.data = train_dataset.data[torch.isin(train_dataset.targets, req_targets)]\n",
        "train_dataset.targets = train_dataset.targets[torch.isin(train_dataset.targets, req_targets)]\n",
        "\n",
        "test_dataset.data = test_dataset.data[torch.isin(test_dataset.targets, req_targets)]\n",
        "test_dataset.targets = test_dataset.targets[torch.isin(test_dataset.targets, req_targets)]"
      ],
      "metadata": {
        "id": "o8H85jXovPmg"
      },
      "execution_count": 5,
      "outputs": []
    },
    {
      "cell_type": "markdown",
      "source": [
        "Re-label the dataset as 1->0, 3->1, 5->2, 7->3, ->4"
      ],
      "metadata": {
        "id": "umIzXfTvGW5E"
      }
    },
    {
      "cell_type": "code",
      "source": [
        "train_dataset.targets = (train_dataset.targets - 1) // 2\n",
        "test_dataset.targets = (test_dataset.targets - 1) // 2"
      ],
      "metadata": {
        "id": "LiWLiK7zU-RD"
      },
      "execution_count": 6,
      "outputs": []
    },
    {
      "cell_type": "code",
      "source": [
        "train_dataset.targets"
      ],
      "metadata": {
        "colab": {
          "base_uri": "https://localhost:8080/"
        },
        "id": "Cvzu6hsTVVEP",
        "outputId": "dd6ec8f7-21ae-4d8d-ff30-696757b4dec7"
      },
      "execution_count": 7,
      "outputs": [
        {
          "output_type": "execute_result",
          "data": {
            "text/plain": [
              "tensor([2, 0, 4,  ..., 0, 1, 2])"
            ]
          },
          "metadata": {},
          "execution_count": 7
        }
      ]
    },
    {
      "cell_type": "markdown",
      "source": [
        "Perform PCA to visualize the dataset:"
      ],
      "metadata": {
        "id": "pIsKyu_zGiBK"
      }
    },
    {
      "cell_type": "code",
      "source": [
        "\n",
        "pca = PCA(n_components=2)\n",
        "X = train_dataset.data\n",
        "X = X.numpy()\n",
        "X = X.reshape(X.shape[0], -1)\n",
        "X_pca = pca.fit_transform(X)\n",
        "\n",
        "plt.scatter(X_pca[:, 0], X_pca[:, 1], c=train_dataset.targets, cmap='viridis')\n",
        "plt.colorbar()\n",
        "plt.show()"
      ],
      "metadata": {
        "colab": {
          "base_uri": "https://localhost:8080/",
          "height": 269
        },
        "id": "81Cm1KiV-Lz2",
        "outputId": "44d03f45-d004-46cb-ff7c-733dce78f7b1"
      },
      "execution_count": 8,
      "outputs": [
        {
          "output_type": "display_data",
          "data": {
            "text/plain": [
              "<Figure size 432x288 with 2 Axes>"
            ],
            "image/png": "[encoded data removed]"
          },
          "metadata": {
            "needs_background": "light"
          }
        }
      ]
    },
    {
      "cell_type": "markdown",
      "source": [
        "Creating a Validation Split"
      ],
      "metadata": {
        "id": "gouZ9MD0Gq-k"
      }
    },
    {
      "cell_type": "code",
      "source": [
        "\n",
        "torch.manual_seed(43)\n",
        "val_size = 6000\n",
        "train_size = len(train_dataset) - val_size\n",
        "\n",
        "train_dataset, val_dataset = random_split(train_dataset, [train_size, val_size])\n",
        "len(train_dataset), len(val_dataset)"
      ],
      "metadata": {
        "colab": {
          "base_uri": "https://localhost:8080/"
        },
        "id": "uua67TXylane",
        "outputId": "a4d1bfdc-ffa9-459a-e29a-f31f750f80e7"
      },
      "execution_count": 9,
      "outputs": [
        {
          "output_type": "execute_result",
          "data": {
            "text/plain": [
              "(24508, 6000)"
            ]
          },
          "metadata": {},
          "execution_count": 9
        }
      ]
    },
    {
      "cell_type": "code",
      "source": [
        "# Create data loaders\n",
        "train_loader = torch.utils.data.DataLoader(train_dataset, batch_size=256, shuffle=True)\n",
        "val_loader = torch.utils.data.DataLoader(val_dataset, batch_size=256, shuffle=True)\n",
        "\n",
        "test_loader = torch.utils.data.DataLoader(test_dataset, batch_size=256, shuffle=False)"
      ],
      "metadata": {
        "id": "2h96MxmdF9Kc"
      },
      "execution_count": 10,
      "outputs": []
    },
    {
      "cell_type": "markdown",
      "source": [
        "Show the Augmented Images:"
      ],
      "metadata": {
        "id": "ChBxTWTxNGWo"
      }
    },
    {
      "cell_type": "code",
      "source": [
        "def imshow(img):\n",
        "\n",
        "  npimg = img.numpy()   # convert from tensor to numpy\n",
        "  plt.imshow(np.transpose(npimg, (1, 2, 0))) \n",
        "  plt.show()\n",
        "\n",
        "for batch_idx, (data, targets) in enumerate(train_loader):\n",
        "    if(batch_idx >10): break\n",
        "    imshow(torchvision.utils.make_grid(data[3]))\n",
        "    print(data.shape)\n",
        "    print(targets[3])"
      ],
      "metadata": {
        "colab": {
          "base_uri": "https://localhost:8080/",
          "height": 1000
        },
        "id": "ZSxirHWfhz0R",
        "outputId": "cfd928c6-2ec8-47b3-d9ab-620d05e6a234"
      },
      "execution_count": 11,
      "outputs": [
        {
          "output_type": "display_data",
          "data": {
            "text/plain": [
              "<Figure size 432x288 with 1 Axes>"
            ],
            "image/png": "[encoded data removed]"
          },
          "metadata": {
            "needs_background": "light"
          }
        },
        {
          "output_type": "stream",
          "name": "stdout",
          "text": [
            "torch.Size([256, 1, 28, 28])\n",
            "tensor(1)\n"
          ]
        },
        {
          "output_type": "display_data",
          "data": {
            "text/plain": [
              "<Figure size 432x288 with 1 Axes>"
            ],
            "image/png": "[encoded data removed]"
          },
          "metadata": {
            "needs_background": "light"
          }
        },
        {
          "output_type": "stream",
          "name": "stdout",
          "text": [
            "torch.Size([256, 1, 28, 28])\n",
            "tensor(2)\n"
          ]
        },
        {
          "output_type": "display_data",
          "data": {
            "text/plain": [
              "<Figure size 432x288 with 1 Axes>"
            ],
            "image/png": "[encoded data removed]"
          },
          "metadata": {
            "needs_background": "light"
          }
        },
        {
          "output_type": "stream",
          "name": "stdout",
          "text": [
            "torch.Size([256, 1, 28, 28])\n",
            "tensor(4)\n"
          ]
        },
        {
          "output_type": "display_data",
          "data": {
            "text/plain": [
              "<Figure size 432x288 with 1 Axes>"
            ],
            "image/png": "[encoded data removed]"
          },
          "metadata": {
            "needs_background": "light"
          }
        },
        {
          "output_type": "stream",
          "name": "stdout",
          "text": [
            "torch.Size([256, 1, 28, 28])\n",
            "tensor(3)\n"
          ]
        },
        {
          "output_type": "display_data",
          "data": {
            "text/plain": [
              "<Figure size 432x288 with 1 Axes>"
            ],
            "image/png": "[encoded data removed]"
          },
          "metadata": {
            "needs_background": "light"
          }
        },
        {
          "output_type": "stream",
          "name": "stdout",
          "text": [
            "torch.Size([256, 1, 28, 28])\n",
            "tensor(2)\n"
          ]
        },
        {
          "output_type": "display_data",
          "data": {
            "text/plain": [
              "<Figure size 432x288 with 1 Axes>"
            ],
            "image/png": "[encoded data removed]"
          },
          "metadata": {
            "needs_background": "light"
          }
        },
        {
          "output_type": "stream",
          "name": "stdout",
          "text": [
            "torch.Size([256, 1, 28, 28])\n",
            "tensor(0)\n"
          ]
        },
        {
          "output_type": "display_data",
          "data": {
            "text/plain": [
              "<Figure size 432x288 with 1 Axes>"
            ],
            "image/png": "[encoded data removed]"
          },
          "metadata": {
            "needs_background": "light"
          }
        },
        {
          "output_type": "stream",
          "name": "stdout",
          "text": [
            "torch.Size([256, 1, 28, 28])\n",
            "tensor(4)\n"
          ]
        },
        {
          "output_type": "display_data",
          "data": {
            "text/plain": [
              "<Figure size 432x288 with 1 Axes>"
            ],
            "image/png": "[encoded data removed]"
          },
          "metadata": {
            "needs_background": "light"
          }
        },
        {
          "output_type": "stream",
          "name": "stdout",
          "text": [
            "torch.Size([256, 1, 28, 28])\n",
            "tensor(3)\n"
          ]
        },
        {
          "output_type": "display_data",
          "data": {
            "text/plain": [
              "<Figure size 432x288 with 1 Axes>"
            ],
            "image/png": "[encoded data removed]"
          },
          "metadata": {
            "needs_background": "light"
          }
        },
        {
          "output_type": "stream",
          "name": "stdout",
          "text": [
            "torch.Size([256, 1, 28, 28])\n",
            "tensor(1)\n"
          ]
        },
        {
          "output_type": "display_data",
          "data": {
            "text/plain": [
              "<Figure size 432x288 with 1 Axes>"
            ],
            "image/png": "[encoded data removed]"
          },
          "metadata": {
            "needs_background": "light"
          }
        },
        {
          "output_type": "stream",
          "name": "stdout",
          "text": [
            "torch.Size([256, 1, 28, 28])\n",
            "tensor(3)\n"
          ]
        },
        {
          "output_type": "display_data",
          "data": {
            "text/plain": [
              "<Figure size 432x288 with 1 Axes>"
            ],
            "image/png": "[encoded data removed]"
          },
          "metadata": {
            "needs_background": "light"
          }
        },
        {
          "output_type": "stream",
          "name": "stdout",
          "text": [
            "torch.Size([256, 1, 28, 28])\n",
            "tensor(4)\n"
          ]
        }
      ]
    },
    {
      "cell_type": "code",
      "source": [
        "device = torch.device(\"cuda\" if torch.cuda.is_available() else \"cpu\")"
      ],
      "metadata": {
        "id": "M2sAlso4rlGz"
      },
      "execution_count": 12,
      "outputs": []
    },
    {
      "cell_type": "markdown",
      "source": [
        "Define the Convolutional Neural Network"
      ],
      "metadata": {
        "id": "A4mEasurG5qz"
      }
    },
    {
      "cell_type": "code",
      "source": [
        "\n",
        "import torch.nn as nn\n",
        "\n",
        "class ConvNet(nn.Module):\n",
        "    def __init__(self):\n",
        "        super(ConvNet, self).__init__()\n",
        "        self.conv1 = nn.Conv2d(in_channels=1, out_channels=8, kernel_size=3, stride=1, padding=1)\n",
        "        self.relu1 = nn.ReLU()\n",
        "        self.conv2 = nn.Conv2d(8, 16, 3, stride=1, padding=1)\n",
        "        self.relu2 = nn.ReLU()\n",
        "        self.conv3 = nn.Conv2d(16, 32, 3, stride=1, padding=1)\n",
        "        self.relu3 = nn.ReLU()\n",
        "        self.conv4 = nn.Conv2d(32, 64, 3, stride=1, padding=1)\n",
        "        self.relu4 = nn.ReLU()\n",
        "        self.conv5 = nn.Conv2d(64, 256, 3, stride=1, padding=1)\n",
        "        self.relu5 = nn.ReLU()\n",
        "        self.pool = nn.AdaptiveAvgPool2d((1, 1))\n",
        "        self.fc = nn.Linear(in_features=256, out_features=5)\n",
        "\n",
        "    def forward(self, x):\n",
        "        x = self.conv1(x)\n",
        "        x = self.relu1(x)\n",
        "        x = self.conv2(x)\n",
        "        x = self.relu2(x)\n",
        "        x = self.conv3(x)\n",
        "        x = self.relu3(x)\n",
        "        x = self.conv4(x)\n",
        "        x = self.relu4(x)\n",
        "        x = self.conv5(x)\n",
        "        x = self.relu5(x)\n",
        "        x = self.pool(x)\n",
        "        x = x.view(x.size(0), -1)\n",
        "        x = self.fc(x)\n",
        "        return x\n"
      ],
      "metadata": {
        "id": "j5PFMsd3GArn"
      },
      "execution_count": 13,
      "outputs": []
    },
    {
      "cell_type": "code",
      "source": [
        "model = ConvNet().to(device)\n",
        "\n",
        "criterion = nn.CrossEntropyLoss()\n",
        "optimizer = torch.optim.Adam(model.parameters(), lr=0.001, weight_decay=1e-5)"
      ],
      "metadata": {
        "id": "ajjbLWfdolVm"
      },
      "execution_count": 14,
      "outputs": []
    },
    {
      "cell_type": "markdown",
      "source": [
        "Initialize the weights using Xavier initialization"
      ],
      "metadata": {
        "id": "y54rVHx2HEHI"
      }
    },
    {
      "cell_type": "code",
      "source": [
        "\n",
        "for m in model.modules():\n",
        "    if isinstance(m, nn.Conv2d) or isinstance(m, nn.Linear):\n",
        "        nn.init.xavier_normal_(m.weight)\n"
      ],
      "metadata": {
        "id": "NdC6-5UBHg8y"
      },
      "execution_count": 15,
      "outputs": []
    },
    {
      "cell_type": "code",
      "source": [
        "train_losses=[]\n",
        "train_accu=[]\n",
        "\n",
        "eval_losses=[]\n",
        "eval_accu=[]\n",
        "\n",
        "y_true = []\n",
        "y_pred = []\n",
        "y_scores = []\n",
        "\n",
        "\n",
        "def test(data_loader):\n",
        "    model.eval()\n",
        "    with torch.no_grad():\n",
        "        correct = 0\n",
        "        total = 0\n",
        "        running_loss = 0\n",
        "\n",
        "        for images, labels in data_loader:\n",
        "\n",
        "            images = images.to(device=device)\n",
        "            labels = labels.to(device=device)\n",
        "\n",
        "            images = images.float()\n",
        "            outputs = model(images)\n",
        "\n",
        "            loss= criterion(outputs,labels)\n",
        "            running_loss+=loss.item()\n",
        "            \n",
        "            _, predicted = torch.max(outputs.data, 1)\n",
        "            total += labels.size(0)\n",
        "            correct += (predicted == labels).sum().item()\n",
        "\n",
        "            y_true.extend(labels.tolist())\n",
        "            y_pred.extend(predicted.tolist())\n",
        "            y_scores.extend(F.softmax(outputs, dim=1).tolist())\n",
        "        \n",
        "        test_loss=running_loss/len(data_loader)\n",
        "        accu=100.*correct/total\n",
        "\n",
        "        eval_losses.append(test_loss)\n",
        "        eval_accu.append(accu)\n",
        "\n",
        "        if(data_loader == test_loader):\n",
        "            print(f'Accuracy of the model on the test data: {accu}%')\n",
        "        else:\n",
        "            print('Validation Loss: %.3f | Validation Accuracy: %.3f'%(test_loss,accu))\n",
        "\n"
      ],
      "metadata": {
        "id": "9lAJqa_taJFv"
      },
      "execution_count": 16,
      "outputs": []
    },
    {
      "cell_type": "markdown",
      "source": [
        "Testing the CNN"
      ],
      "metadata": {
        "id": "b0kjn00XHK4y"
      }
    },
    {
      "cell_type": "code",
      "source": [
        "\n",
        "no_of_epochs = 30\n",
        "\n",
        "for epoch in range(no_of_epochs):\n",
        "    running_loss = 0.0\n",
        "    correct=0\n",
        "    total=0\n",
        "    for i, (images, labels) in enumerate(train_loader):\n",
        "\n",
        "        images = images.to(device=device)\n",
        "        labels = labels.to(device=device)\n",
        "\n",
        "        optimizer.zero_grad()\n",
        "\n",
        "        images = images.float()\n",
        "        outputs = model(images)\n",
        "\n",
        "        loss = criterion(outputs, labels)\n",
        "        loss.backward()\n",
        "        optimizer.step()\n",
        "        running_loss += loss.item()\n",
        "\n",
        "        _, predicted = torch.max(outputs.data, 1)\n",
        "        total += labels.size(0)\n",
        "        correct += (predicted == labels).sum().item()\n",
        "\n",
        "\n",
        "    train_loss=running_loss/len(train_loader)\n",
        "    accu=100.*correct/total\n",
        "\n",
        "    train_accu.append(accu)\n",
        "    train_losses.append(train_loss)\n",
        "\n",
        "    print(f'Epoch [{epoch + 1}/{no_of_epochs}]' + ' | '+'Train Loss: %.3f | Train Accuracy: %.3f'%(train_loss,accu), end =' | ')\n",
        "    test(val_loader)\n",
        "\n",
        "print('Finished Training')\n"
      ],
      "metadata": {
        "colab": {
          "base_uri": "https://localhost:8080/"
        },
        "id": "C1Ip2ijJaJZb",
        "outputId": "47005218-23fd-4127-df5d-f18843c6f5fe"
      },
      "execution_count": 17,
      "outputs": [
        {
          "output_type": "stream",
          "name": "stdout",
          "text": [
            "Epoch [1/30] | Train Loss: 1.113 | Train Accuracy: 50.253 | Validation Loss: 0.797 | Validation Accuracy: 64.933\n",
            "Epoch [2/30] | Train Loss: 0.766 | Train Accuracy: 69.271 | Validation Loss: 0.673 | Validation Accuracy: 73.683\n",
            "Epoch [3/30] | Train Loss: 0.612 | Train Accuracy: 78.958 | Validation Loss: 0.514 | Validation Accuracy: 82.933\n",
            "Epoch [4/30] | Train Loss: 0.476 | Train Accuracy: 85.001 | Validation Loss: 0.452 | Validation Accuracy: 84.283\n",
            "Epoch [5/30] | Train Loss: 0.390 | Train Accuracy: 88.269 | Validation Loss: 0.340 | Validation Accuracy: 89.983\n",
            "Epoch [6/30] | Train Loss: 0.317 | Train Accuracy: 90.823 | Validation Loss: 0.279 | Validation Accuracy: 91.350\n",
            "Epoch [7/30] | Train Loss: 0.277 | Train Accuracy: 91.852 | Validation Loss: 0.274 | Validation Accuracy: 91.467\n",
            "Epoch [8/30] | Train Loss: 0.246 | Train Accuracy: 92.892 | Validation Loss: 0.214 | Validation Accuracy: 93.667\n",
            "Epoch [9/30] | Train Loss: 0.214 | Train Accuracy: 93.716 | Validation Loss: 0.187 | Validation Accuracy: 94.517\n",
            "Epoch [10/30] | Train Loss: 0.199 | Train Accuracy: 93.957 | Validation Loss: 0.158 | Validation Accuracy: 95.233\n",
            "Epoch [11/30] | Train Loss: 0.173 | Train Accuracy: 94.859 | Validation Loss: 0.168 | Validation Accuracy: 95.250\n",
            "Epoch [12/30] | Train Loss: 0.173 | Train Accuracy: 94.855 | Validation Loss: 0.159 | Validation Accuracy: 95.167\n",
            "Epoch [13/30] | Train Loss: 0.159 | Train Accuracy: 95.181 | Validation Loss: 0.164 | Validation Accuracy: 94.983\n",
            "Epoch [14/30] | Train Loss: 0.146 | Train Accuracy: 95.622 | Validation Loss: 0.127 | Validation Accuracy: 96.383\n",
            "Epoch [15/30] | Train Loss: 0.144 | Train Accuracy: 95.699 | Validation Loss: 0.139 | Validation Accuracy: 95.983\n",
            "Epoch [16/30] | Train Loss: 0.140 | Train Accuracy: 95.785 | Validation Loss: 0.133 | Validation Accuracy: 96.033\n",
            "Epoch [17/30] | Train Loss: 0.130 | Train Accuracy: 96.083 | Validation Loss: 0.130 | Validation Accuracy: 96.317\n",
            "Epoch [18/30] | Train Loss: 0.123 | Train Accuracy: 96.287 | Validation Loss: 0.138 | Validation Accuracy: 95.717\n",
            "Epoch [19/30] | Train Loss: 0.130 | Train Accuracy: 96.103 | Validation Loss: 0.117 | Validation Accuracy: 96.550\n",
            "Epoch [20/30] | Train Loss: 0.121 | Train Accuracy: 96.299 | Validation Loss: 0.111 | Validation Accuracy: 96.783\n",
            "Epoch [21/30] | Train Loss: 0.129 | Train Accuracy: 96.042 | Validation Loss: 0.108 | Validation Accuracy: 96.633\n",
            "Epoch [22/30] | Train Loss: 0.103 | Train Accuracy: 96.777 | Validation Loss: 0.103 | Validation Accuracy: 96.783\n",
            "Epoch [23/30] | Train Loss: 0.107 | Train Accuracy: 96.622 | Validation Loss: 0.107 | Validation Accuracy: 96.900\n",
            "Epoch [24/30] | Train Loss: 0.104 | Train Accuracy: 96.830 | Validation Loss: 0.106 | Validation Accuracy: 96.567\n",
            "Epoch [25/30] | Train Loss: 0.102 | Train Accuracy: 96.805 | Validation Loss: 0.090 | Validation Accuracy: 97.333\n",
            "Epoch [26/30] | Train Loss: 0.109 | Train Accuracy: 96.711 | Validation Loss: 0.106 | Validation Accuracy: 96.633\n",
            "Epoch [27/30] | Train Loss: 0.096 | Train Accuracy: 96.976 | Validation Loss: 0.088 | Validation Accuracy: 97.300\n",
            "Epoch [28/30] | Train Loss: 0.097 | Train Accuracy: 97.017 | Validation Loss: 0.095 | Validation Accuracy: 97.133\n",
            "Epoch [29/30] | Train Loss: 0.094 | Train Accuracy: 97.111 | Validation Loss: 0.096 | Validation Accuracy: 97.067\n",
            "Epoch [30/30] | Train Loss: 0.091 | Train Accuracy: 97.083 | Validation Loss: 0.073 | Validation Accuracy: 97.800\n",
            "Finished Training\n"
          ]
        }
      ]
    },
    {
      "cell_type": "code",
      "source": [
        "test(test_loader)"
      ],
      "metadata": {
        "colab": {
          "base_uri": "https://localhost:8080/"
        },
        "id": "i9X_54Gmahpx",
        "outputId": "e2ea87dd-f710-4dff-841e-0754b08ede5d"
      },
      "execution_count": 18,
      "outputs": [
        {
          "output_type": "stream",
          "name": "stdout",
          "text": [
            "Accuracy of the model on the test data: 97.79266850610958%\n"
          ]
        }
      ]
    },
    {
      "cell_type": "code",
      "source": [
        "#plot accuracy\n",
        "\n",
        "plt.plot(train_accu,'-o')\n",
        "plt.plot(eval_accu,'-o')\n",
        "plt.xlabel('epoch')\n",
        "plt.ylabel('accuracy')\n",
        "plt.legend(['Train','Valid'])\n",
        "plt.title('Train vs Valid Accuracy')\n",
        "\n",
        "plt.show()"
      ],
      "metadata": {
        "colab": {
          "base_uri": "https://localhost:8080/",
          "height": 295
        },
        "id": "D3MdeWDloxZh",
        "outputId": "e3f40de6-cc00-493a-eb74-5576b3cd9c01"
      },
      "execution_count": 19,
      "outputs": [
        {
          "output_type": "display_data",
          "data": {
            "text/plain": [
              "<Figure size 432x288 with 1 Axes>"
            ],
            "image/png": "[encoded data removed]"
          },
          "metadata": {
            "needs_background": "light"
          }
        }
      ]
    },
    {
      "cell_type": "code",
      "source": [
        "#plot losses\n",
        "\n",
        "plt.plot(train_losses,'-o')\n",
        "plt.plot(eval_losses,'-o')\n",
        "\n",
        "plt.xlabel('Epoch')\n",
        "plt.ylabel('Losses')\n",
        "plt.legend(['Train','Valid'])\n",
        "plt.title('Train vs Valid Losses')\n",
        "\n",
        "plt.show()"
      ],
      "metadata": {
        "colab": {
          "base_uri": "https://localhost:8080/",
          "height": 295
        },
        "id": "O2Gzw4VI7jFr",
        "outputId": "aa542d15-2a22-4961-d0f8-117c57eafb34"
      },
      "execution_count": 20,
      "outputs": [
        {
          "output_type": "display_data",
          "data": {
            "text/plain": [
              "<Figure size 432x288 with 1 Axes>"
            ],
            "image/png": "[encoded data removed]"
          },
          "metadata": {
            "needs_background": "light"
          }
        }
      ]
    },
    {
      "cell_type": "code",
      "source": [
        "from sklearn.metrics import confusion_matrix, classification_report, precision_recall_curve, roc_auc_score, roc_curve\n",
        "\n",
        "# Compute the confusion matrix\n",
        "cm = confusion_matrix(y_true, y_pred)\n",
        "print(cm)"
      ],
      "metadata": {
        "colab": {
          "base_uri": "https://localhost:8080/"
        },
        "id": "MdXLZEGQJKJv",
        "outputId": "b761d65a-2e9e-4d91-8d31-1fc944d4253f"
      },
      "execution_count": 21,
      "outputs": [
        {
          "output_type": "stream",
          "name": "stdout",
          "text": [
            "[[39703    56   106   189   171]\n",
            " [   49 34652   976   662   941]\n",
            " [  203  2161 29447   577   604]\n",
            " [  521   699   604 35578  1126]\n",
            " [  597   562   738  1088 33064]]\n"
          ]
        }
      ]
    },
    {
      "cell_type": "markdown",
      "source": [
        "Confusion Matrix:"
      ],
      "metadata": {
        "id": "yP5XvjLhHRtz"
      }
    },
    {
      "cell_type": "code",
      "source": [
        "# Plot the confusion matrix\n",
        "plt.imshow(cm, cmap=plt.cm.Blues)\n",
        "plt.xlabel('Predicted labels')\n",
        "plt.ylabel('True labels')\n",
        "plt.xticks(np.arange(5))\n",
        "plt.yticks(np.arange(5))\n",
        "plt.title('Confusion Matrix')\n",
        "plt.colorbar()\n",
        "\n",
        "for i in range(5):\n",
        "    for j in range(5):\n",
        "        plt.text(j, i, cm[i, j], ha='center', va='center', color='red')\n",
        "\n",
        "plt.show()"
      ],
      "metadata": {
        "colab": {
          "base_uri": "https://localhost:8080/",
          "height": 295
        },
        "id": "BTwsqlhvN6g0",
        "outputId": "a7f6b20a-8926-438a-96ce-c251ddbfe14a"
      },
      "execution_count": 22,
      "outputs": [
        {
          "output_type": "display_data",
          "data": {
            "text/plain": [
              "<Figure size 432x288 with 2 Axes>"
            ],
            "image/png": "[encoded data removed]"
          },
          "metadata": {
            "needs_background": "light"
          }
        }
      ]
    },
    {
      "cell_type": "code",
      "source": [
        "report = classification_report(y_true, y_pred)\n",
        "print(report)\n"
      ],
      "metadata": {
        "colab": {
          "base_uri": "https://localhost:8080/"
        },
        "id": "F5kdf30oK1dt",
        "outputId": "a2244bbe-9b51-42d4-f29d-53624ec897b8"
      },
      "execution_count": 23,
      "outputs": [
        {
          "output_type": "stream",
          "name": "stdout",
          "text": [
            "              precision    recall  f1-score   support\n",
            "\n",
            "           0       0.97      0.99      0.98     40225\n",
            "           1       0.91      0.93      0.92     37280\n",
            "           2       0.92      0.89      0.91     32992\n",
            "           3       0.93      0.92      0.93     38528\n",
            "           4       0.92      0.92      0.92     36049\n",
            "\n",
            "    accuracy                           0.93    185074\n",
            "   macro avg       0.93      0.93      0.93    185074\n",
            "weighted avg       0.93      0.93      0.93    185074\n",
            "\n"
          ]
        }
      ]
    },
    {
      "cell_type": "markdown",
      "source": [
        "# Question 2"
      ],
      "metadata": {
        "id": "Ty3q4lhX-T7Z"
      }
    },
    {
      "cell_type": "markdown",
      "source": [
        "Required Model details:"
      ],
      "metadata": {
        "id": "gkdUUVBYM8T0"
      }
    },
    {
      "cell_type": "code",
      "execution_count": 24,
      "metadata": {
        "colab": {
          "base_uri": "https://localhost:8080/"
        },
        "id": "EzB2rGGUbBqz",
        "outputId": "f52ce1a6-bd40-4e77-c61a-fcd44145bb70"
      },
      "outputs": [
        {
          "output_type": "stream",
          "name": "stdout",
          "text": [
            "FIRST:  Adarsh\n",
            "LAST:  Palaskar\n"
          ]
        }
      ],
      "source": [
        "# Number of AutoEncoder layer = 3\n",
        "# Classification Layer = 512 nodes\n",
        "\n",
        "print(\"FIRST: \", \"Adarsh\" )\n",
        "print(\"LAST: \", \"Palaskar\" )"
      ]
    },
    {
      "cell_type": "code",
      "source": [
        "# Rotate the images by 10 degrees\n",
        "class Rotation(object):\n",
        "    def __init__(self, degrees):\n",
        "        self.degrees = degrees\n",
        "\n",
        "    def __call__(self, x):\n",
        "        return transforms.functional.rotate(x, self.degrees)\n",
        "\n",
        "# Add Gaussian noise to the images\n",
        "class AddGaussianNoise(object):\n",
        "    def __call__(self, x):\n",
        "        gaussian_noise = 0.5*np.random.normal(0.5, 0.5, size=x.shape)\n",
        "        x = x + gaussian_noise\n",
        "        return x\n",
        "\n",
        "class ClipDataset(object):\n",
        "    def __call__(self,x):\n",
        "        return np.clip(x,0,1)\n",
        "\n",
        "data_augmentations = [\n",
        "    Rotation(10),\n",
        "    AddGaussianNoise() ]\n",
        "\n",
        "\n",
        "transform = transforms.Compose([\n",
        "    transforms.ToTensor(),\n",
        "    transforms.Normalize((0.5,), (0.5,)),\n",
        "    transforms.RandomApply(data_augmentations,p=0.5),\n",
        "    ClipDataset()\n",
        "])\n"
      ],
      "metadata": {
        "id": "RcJQJAYmbBq0"
      },
      "execution_count": 25,
      "outputs": []
    },
    {
      "cell_type": "code",
      "source": [
        "train_dataset = torchvision.datasets.MNIST(root='.', train=True, transform=transform, download=True)\n",
        "test_dataset = torchvision.datasets.MNIST(root='.', train=False, transform=transform, download=True)\n"
      ],
      "metadata": {
        "id": "bTnkVmBdbBq0"
      },
      "execution_count": 26,
      "outputs": []
    },
    {
      "cell_type": "code",
      "source": [
        "req_targets = torch.tensor([1, 3, 5, 7, 9])\n",
        "\n",
        "train_dataset.data = train_dataset.data[torch.isin(train_dataset.targets, req_targets)]\n",
        "train_dataset.targets = train_dataset.targets[torch.isin(train_dataset.targets, req_targets)]\n",
        "\n",
        "test_dataset.data = test_dataset.data[torch.isin(test_dataset.targets, req_targets)]\n",
        "test_dataset.targets = test_dataset.targets[torch.isin(test_dataset.targets, req_targets)]"
      ],
      "metadata": {
        "id": "ybvOBuEqbBq0"
      },
      "execution_count": 27,
      "outputs": []
    },
    {
      "cell_type": "code",
      "source": [
        "train_dataset.targets = (train_dataset.targets - 1) // 2\n",
        "test_dataset.targets = (test_dataset.targets - 1) // 2"
      ],
      "metadata": {
        "id": "WcQQ2srGbBq0"
      },
      "execution_count": 28,
      "outputs": []
    },
    {
      "cell_type": "code",
      "source": [
        "train_dataset.targets"
      ],
      "metadata": {
        "colab": {
          "base_uri": "https://localhost:8080/"
        },
        "outputId": "ce4c0e1a-01c0-416b-e8b5-16ed6363a2a0",
        "id": "0xAlSIf-bBq0"
      },
      "execution_count": 29,
      "outputs": [
        {
          "output_type": "execute_result",
          "data": {
            "text/plain": [
              "tensor([2, 0, 4,  ..., 0, 1, 2])"
            ]
          },
          "metadata": {},
          "execution_count": 29
        }
      ]
    },
    {
      "cell_type": "code",
      "source": [
        "train_dataset.data.shape"
      ],
      "metadata": {
        "colab": {
          "base_uri": "https://localhost:8080/"
        },
        "id": "DHCSf017bJsM",
        "outputId": "a3a3f4c3-982a-4785-e886-93827d37f24c"
      },
      "execution_count": 30,
      "outputs": [
        {
          "output_type": "execute_result",
          "data": {
            "text/plain": [
              "torch.Size([30508, 28, 28])"
            ]
          },
          "metadata": {},
          "execution_count": 30
        }
      ]
    },
    {
      "cell_type": "code",
      "source": [
        "def create_noisy_image(image):\n",
        "    mean = 0.5\n",
        "    std = 0.5\n",
        "\n",
        "    noisy_image = image + 0.1*(torch.randn_like(image) * std + mean)\n",
        "    noisy_image = np.clip(noisy_image,0,1)\n",
        "\n",
        "    return noisy_image"
      ],
      "metadata": {
        "id": "niJdZBDGOVFS"
      },
      "execution_count": 31,
      "outputs": []
    },
    {
      "cell_type": "code",
      "source": [
        "train_loader = torch.utils.data.DataLoader(train_dataset, batch_size=256, shuffle=True)\n",
        "test_loader = torch.utils.data.DataLoader(test_dataset, batch_size=256, shuffle=False)"
      ],
      "metadata": {
        "id": "d8S09_3abBq3"
      },
      "execution_count": 32,
      "outputs": []
    },
    {
      "cell_type": "markdown",
      "source": [
        "Defining the Autoencoder and Classification Layer"
      ],
      "metadata": {
        "id": "4LavAb7XJgUH"
      }
    },
    {
      "cell_type": "code",
      "source": [
        "# Define the autoencoder\n",
        "class Autoencoder(nn.Module):\n",
        "    def __init__(self):\n",
        "        super(Autoencoder, self).__init__()\n",
        "        self.encoder = nn.Sequential(\n",
        "            nn.Conv2d(1, 16, 3, stride=2, padding=1),\n",
        "            nn.ReLU(),\n",
        "            nn.Conv2d(16, 64, 3, stride=2, padding=1),\n",
        "            nn.ReLU(),\n",
        "            nn.Conv2d(64, 256, 3, stride=2, padding=1),\n",
        "            nn.AdaptiveAvgPool2d((1,2))\n",
        "        )\n",
        "       \n",
        "        self.decoder = nn.Sequential(\n",
        "            nn.Linear(512, 256),\n",
        "            nn.ReLU(),\n",
        "            nn.Linear(256, 128),\n",
        "            nn.ReLU(),\n",
        "            nn.Linear(128, 28 * 28),\n",
        "            nn.Sigmoid()\n",
        "        )\n",
        "        \n",
        "    def forward(self, x):\n",
        "        x = self.encoder(x)\n",
        "        x = x.view(x.shape[0],-1)\n",
        "        x = self.decoder(x)\n",
        "        return x\n",
        "\n",
        "\n",
        "# Define the classifier\n",
        "class Classifier(nn.Module):\n",
        "    def __init__(self, bottleneck=512):\n",
        "        super(Classifier, self).__init__()\n",
        "        self.fc = nn.Sequential(\n",
        "            nn.Linear(bottleneck, 5),\n",
        "        )\n",
        "\n",
        "    def forward(self, x):\n",
        "        x = self.fc(x)\n",
        "        return x\n"
      ],
      "metadata": {
        "id": "yxTyeMpSGVet"
      },
      "execution_count": 33,
      "outputs": []
    },
    {
      "cell_type": "code",
      "source": [
        "autoencoder = Autoencoder()\n",
        "criterion = nn.MSELoss()\n",
        "optimizer = optim.Adam(autoencoder.parameters(), lr=0.001)"
      ],
      "metadata": {
        "id": "gaT65C8Oy-Hs"
      },
      "execution_count": 34,
      "outputs": []
    },
    {
      "cell_type": "code",
      "source": [
        "for m in autoencoder.modules():\n",
        "    if isinstance(m, nn.Conv2d) or isinstance(m, nn.Linear):\n",
        "        nn.init.xavier_normal_(m.weight)"
      ],
      "metadata": {
        "id": "KxFRWAU9y_JT"
      },
      "execution_count": 35,
      "outputs": []
    },
    {
      "cell_type": "code",
      "source": [
        "# Train the autoencoder\n",
        "reconstructed_images = []\n",
        "no_of_epochs = 30\n",
        "\n",
        "for epoch in range(no_of_epochs):\n",
        "    for data in train_loader:\n",
        "\n",
        "        img, _ = data\n",
        "\n",
        "        noisy_img = create_noisy_image(img)\n",
        "        \n",
        "        img = img.float()\n",
        "        noisy_img = noisy_img.float()\n",
        "\n",
        "        output = autoencoder(noisy_img)\n",
        "        if(epoch == no_of_epochs-1):\n",
        "            reconstructed_images.append(output)\n",
        "\n",
        "        img = img.view(img.size(0), -1)\n",
        "        loss = criterion(output, img)\n",
        "        optimizer.zero_grad()\n",
        "        loss.backward()\n",
        "        optimizer.step()\n",
        "\n",
        "    print(\"Epoch [{}/30] | Training MSE Loss: {:.4f}\".format(epoch+1, loss.item()))\n"
      ],
      "metadata": {
        "colab": {
          "base_uri": "https://localhost:8080/"
        },
        "id": "0GGzgxr3GqSm",
        "outputId": "3746c0d9-abfa-444a-ed4a-311bc661d33b"
      },
      "execution_count": 36,
      "outputs": [
        {
          "output_type": "stream",
          "name": "stdout",
          "text": [
            "Epoch [1/30] | Training MSE Loss: 0.0595\n",
            "Epoch [2/30] | Training MSE Loss: 0.0443\n",
            "Epoch [3/30] | Training MSE Loss: 0.0455\n",
            "Epoch [4/30] | Training MSE Loss: 0.0356\n",
            "Epoch [5/30] | Training MSE Loss: 0.0328\n",
            "Epoch [6/30] | Training MSE Loss: 0.0287\n",
            "Epoch [7/30] | Training MSE Loss: 0.0281\n",
            "Epoch [8/30] | Training MSE Loss: 0.0309\n",
            "Epoch [9/30] | Training MSE Loss: 0.0245\n",
            "Epoch [10/30] | Training MSE Loss: 0.0239\n",
            "Epoch [11/30] | Training MSE Loss: 0.0263\n",
            "Epoch [12/30] | Training MSE Loss: 0.0202\n",
            "Epoch [13/30] | Training MSE Loss: 0.0184\n",
            "Epoch [14/30] | Training MSE Loss: 0.0208\n",
            "Epoch [15/30] | Training MSE Loss: 0.0180\n",
            "Epoch [16/30] | Training MSE Loss: 0.0237\n",
            "Epoch [17/30] | Training MSE Loss: 0.0163\n",
            "Epoch [18/30] | Training MSE Loss: 0.0203\n",
            "Epoch [19/30] | Training MSE Loss: 0.0158\n",
            "Epoch [20/30] | Training MSE Loss: 0.0178\n",
            "Epoch [21/30] | Training MSE Loss: 0.0171\n",
            "Epoch [22/30] | Training MSE Loss: 0.0189\n",
            "Epoch [23/30] | Training MSE Loss: 0.0176\n",
            "Epoch [24/30] | Training MSE Loss: 0.0166\n",
            "Epoch [25/30] | Training MSE Loss: 0.0137\n",
            "Epoch [26/30] | Training MSE Loss: 0.0148\n",
            "Epoch [27/30] | Training MSE Loss: 0.0147\n",
            "Epoch [28/30] | Training MSE Loss: 0.0153\n",
            "Epoch [29/30] | Training MSE Loss: 0.0151\n",
            "Epoch [30/30] | Training MSE Loss: 0.0144\n"
          ]
        }
      ]
    },
    {
      "cell_type": "markdown",
      "source": [
        "Reconstructed Images:"
      ],
      "metadata": {
        "id": "9xSV9H-HXqp-"
      }
    },
    {
      "cell_type": "code",
      "source": [
        "def show_image(img):\n",
        "  npimg = img.detach().numpy()\n",
        "  plt.imshow(np.transpose(npimg, (1, 2, 0))) \n",
        "  plt.show()\n",
        "\n",
        "for i in range (0,10):\n",
        "    show_image(torchvision.utils.make_grid(reconstructed_images[0][i].reshape(28,28)))"
      ],
      "metadata": {
        "colab": {
          "base_uri": "https://localhost:8080/",
          "height": 1000
        },
        "id": "YxGIhWjkTCuw",
        "outputId": "2c4e62e9-43cb-4860-9858-5a1d367875ff"
      },
      "execution_count": 37,
      "outputs": [
        {
          "output_type": "display_data",
          "data": {
            "text/plain": [
              "<Figure size 432x288 with 1 Axes>"
            ],
            "image/png": "[encoded data removed]"
          },
          "metadata": {
            "needs_background": "light"
          }
        },
        {
          "output_type": "display_data",
          "data": {
            "text/plain": [
              "<Figure size 432x288 with 1 Axes>"
            ],
            "image/png": "[encoded data removed]"
          },
          "metadata": {
            "needs_background": "light"
          }
        },
        {
          "output_type": "display_data",
          "data": {
            "text/plain": [
              "<Figure size 432x288 with 1 Axes>"
            ],
            "image/png": "[encoded data removed]"
          },
          "metadata": {
            "needs_background": "light"
          }
        },
        {
          "output_type": "display_data",
          "data": {
            "text/plain": [
              "<Figure size 432x288 with 1 Axes>"
            ],
            "image/png": "[encoded data removed]"
          },
          "metadata": {
            "needs_background": "light"
          }
        },
        {
          "output_type": "display_data",
          "data": {
            "text/plain": [
              "<Figure size 432x288 with 1 Axes>"
            ],
            "image/png": "[encoded data removed]"
          },
          "metadata": {
            "needs_background": "light"
          }
        },
        {
          "output_type": "display_data",
          "data": {
            "text/plain": [
              "<Figure size 432x288 with 1 Axes>"
            ],
            "image/png": "[encoded data removed]"
          },
          "metadata": {
            "needs_background": "light"
          }
        },
        {
          "output_type": "display_data",
          "data": {
            "text/plain": [
              "<Figure size 432x288 with 1 Axes>"
            ],
            "image/png": "[encoded data removed]"
          },
          "metadata": {
            "needs_background": "light"
          }
        },
        {
          "output_type": "display_data",
          "data": {
            "text/plain": [
              "<Figure size 432x288 with 1 Axes>"
            ],
            "image/png": "[encoded data removed]"
          },
          "metadata": {
            "needs_background": "light"
          }
        },
        {
          "output_type": "display_data",
          "data": {
            "text/plain": [
              "<Figure size 432x288 with 1 Axes>"
            ],
            "image/png": "[encoded data removed]"
          },
          "metadata": {
            "needs_background": "light"
          }
        },
        {
          "output_type": "display_data",
          "data": {
            "text/plain": [
              "<Figure size 432x288 with 1 Axes>"
            ],
            "image/png": "[encoded data removed]"
          },
          "metadata": {
            "needs_background": "light"
          }
        }
      ]
    },
    {
      "cell_type": "markdown",
      "source": [
        "Removing the Decoder and introducing the Classifier layer to classify:"
      ],
      "metadata": {
        "id": "e2uGv30qMi4L"
      }
    },
    {
      "cell_type": "code",
      "source": [
        "# Remove the decoder\n",
        "autoencoder = autoencoder.encoder\n",
        "\n",
        "# Add the classifier\n",
        "classifier = Classifier(bottleneck=512)\n",
        "criterion = nn.CrossEntropyLoss()\n",
        "optimizer = optim.Adam(classifier.parameters(), lr=0.001)"
      ],
      "metadata": {
        "id": "OvTl5UE1Zw5l"
      },
      "execution_count": 38,
      "outputs": []
    },
    {
      "cell_type": "code",
      "source": [
        "train_losses=[]\n",
        "train_accu=[]\n",
        "\n",
        "eval_losses=[]\n",
        "eval_accu=[]\n",
        "\n",
        "for epoch in range(no_of_epochs):\n",
        "    running_loss = 0.0\n",
        "    correct = 0\n",
        "    total = 0\n",
        "\n",
        "    for img,labels in train_loader:\n",
        "\n",
        "        #img = img.view(img.size(0), -1)\n",
        "        img = img.float()\n",
        "        img = autoencoder(img)\n",
        "\n",
        "        img = img.view(img.size(0), -1)\n",
        "        outputs = classifier(img)\n",
        "\n",
        "        loss = criterion(outputs, labels)\n",
        "        optimizer.zero_grad()\n",
        "        loss.backward()\n",
        "        optimizer.step()\n",
        "        running_loss += loss.item()\n",
        "\n",
        "        _, predicted = torch.max(outputs.data, 1)\n",
        "        total += labels.size(0)\n",
        "        correct += (predicted == labels).sum().item()\n",
        "\n",
        "\n",
        "\n",
        "\n",
        "    train_loss=running_loss/len(train_loader)\n",
        "    accu=100.*correct/total\n",
        "\n",
        "    train_accu.append(accu)\n",
        "    train_losses.append(train_loss)\n",
        "\n",
        "    print(\"Epoch [{}/30], Train Loss: {:.4f} | Train Accuracy: {:.4f}\".format(epoch+1, running_loss/len(train_loader), accu))\n",
        "    \n"
      ],
      "metadata": {
        "colab": {
          "base_uri": "https://localhost:8080/"
        },
        "id": "RjHD7wseG6ay",
        "outputId": "af7bba35-4775-4fbd-f5a7-d8fc84574717"
      },
      "execution_count": 39,
      "outputs": [
        {
          "output_type": "stream",
          "name": "stdout",
          "text": [
            "Epoch [1/30], Train Loss: 0.5733 | Train Accuracy: 82.2014\n",
            "Epoch [2/30], Train Loss: 0.3174 | Train Accuracy: 90.5894\n",
            "Epoch [3/30], Train Loss: 0.2688 | Train Accuracy: 91.8251\n",
            "Epoch [4/30], Train Loss: 0.2425 | Train Accuracy: 92.5364\n",
            "Epoch [5/30], Train Loss: 0.2298 | Train Accuracy: 93.0641\n",
            "Epoch [6/30], Train Loss: 0.2164 | Train Accuracy: 93.2673\n",
            "Epoch [7/30], Train Loss: 0.2097 | Train Accuracy: 93.5230\n",
            "Epoch [8/30], Train Loss: 0.2038 | Train Accuracy: 93.8213\n",
            "Epoch [9/30], Train Loss: 0.1995 | Train Accuracy: 93.8180\n",
            "Epoch [10/30], Train Loss: 0.1937 | Train Accuracy: 94.0934\n",
            "Epoch [11/30], Train Loss: 0.1894 | Train Accuracy: 94.2179\n",
            "Epoch [12/30], Train Loss: 0.1860 | Train Accuracy: 94.2441\n",
            "Epoch [13/30], Train Loss: 0.1853 | Train Accuracy: 94.0966\n",
            "Epoch [14/30], Train Loss: 0.1808 | Train Accuracy: 94.3654\n",
            "Epoch [15/30], Train Loss: 0.1764 | Train Accuracy: 94.4670\n",
            "Epoch [16/30], Train Loss: 0.1760 | Train Accuracy: 94.4998\n",
            "Epoch [17/30], Train Loss: 0.1742 | Train Accuracy: 94.6768\n",
            "Epoch [18/30], Train Loss: 0.1711 | Train Accuracy: 94.5686\n",
            "Epoch [19/30], Train Loss: 0.1703 | Train Accuracy: 94.6932\n",
            "Epoch [20/30], Train Loss: 0.1703 | Train Accuracy: 94.6703\n",
            "Epoch [21/30], Train Loss: 0.1652 | Train Accuracy: 94.8538\n",
            "Epoch [22/30], Train Loss: 0.1690 | Train Accuracy: 94.7129\n",
            "Epoch [23/30], Train Loss: 0.1661 | Train Accuracy: 94.7030\n",
            "Epoch [24/30], Train Loss: 0.1671 | Train Accuracy: 94.8440\n",
            "Epoch [25/30], Train Loss: 0.1670 | Train Accuracy: 94.7850\n",
            "Epoch [26/30], Train Loss: 0.1661 | Train Accuracy: 94.8309\n",
            "Epoch [27/30], Train Loss: 0.1647 | Train Accuracy: 94.7915\n",
            "Epoch [28/30], Train Loss: 0.1595 | Train Accuracy: 94.9554\n",
            "Epoch [29/30], Train Loss: 0.1629 | Train Accuracy: 94.9980\n",
            "Epoch [30/30], Train Loss: 0.1602 | Train Accuracy: 94.9128\n"
          ]
        }
      ]
    },
    {
      "cell_type": "code",
      "source": [
        "y_true = []\n",
        "y_pred = []\n",
        "y_scores = []\n",
        "\n",
        "def test(data_loader):\n",
        "    autoencoder.eval()\n",
        "    with torch.no_grad():\n",
        "\n",
        "        running_loss = 0.0\n",
        "        correct = 0\n",
        "        total = 0\n",
        "\n",
        "        for img,labels in data_loader:\n",
        "\n",
        "            #img = img.view(img.size(0), -1)\n",
        "            img = img.float()\n",
        "            img = autoencoder(img)\n",
        "\n",
        "            img = img.view(img.size(0), -1)\n",
        "            outputs = classifier(img)\n",
        "\n",
        "            loss = criterion(outputs, labels)\n",
        "            running_loss += loss.item()\n",
        "\n",
        "            _, predicted = torch.max(outputs.data, 1)\n",
        "            total += labels.size(0)\n",
        "            correct += (predicted == labels).sum().item()\n",
        "\n",
        "            y_true.extend(labels.tolist())\n",
        "            y_pred.extend(predicted.tolist())\n",
        "            y_scores.extend(F.softmax(output, dim=1).tolist())\n",
        "\n",
        "        test_loss=running_loss/len(data_loader)\n",
        "        accu=100.*correct/total\n",
        "\n",
        "        eval_losses.append(test_loss)\n",
        "        eval_accu.append(accu)\n",
        "\n",
        "        print(\"Test Loss: {:.4f} | Test Accuracy: {:.4f}\".format( running_loss/len(data_loader), accu))"
      ],
      "metadata": {
        "id": "4EGz3QqroNXG"
      },
      "execution_count": 40,
      "outputs": []
    },
    {
      "cell_type": "code",
      "source": [
        "test(test_loader)"
      ],
      "metadata": {
        "colab": {
          "base_uri": "https://localhost:8080/"
        },
        "id": "D1ZARSHbpLjK",
        "outputId": "a581feee-e9b9-41f0-b907-9ea4870a06c6"
      },
      "execution_count": 41,
      "outputs": [
        {
          "output_type": "stream",
          "name": "stdout",
          "text": [
            "Test Loss: 0.1466 | Test Accuracy: 95.5262\n"
          ]
        }
      ]
    },
    {
      "cell_type": "markdown",
      "source": [
        "Plotting Train Accuracies and Losses:"
      ],
      "metadata": {
        "id": "JJzLERQaKglz"
      }
    },
    {
      "cell_type": "code",
      "source": [
        "#plot accuracy\n",
        "\n",
        "plt.plot(train_accu,'-o')\n",
        "plt.xlabel('Epoch')\n",
        "plt.ylabel('Accuracy')\n",
        "\n",
        "plt.title('Train Accuracy')\n",
        "\n",
        "plt.show()"
      ],
      "metadata": {
        "colab": {
          "base_uri": "https://localhost:8080/",
          "height": 295
        },
        "outputId": "46e8cf1b-8bf7-4f6f-fc77-13d5fd405e68",
        "id": "Tlz6zKTPbBq5"
      },
      "execution_count": 42,
      "outputs": [
        {
          "output_type": "display_data",
          "data": {
            "text/plain": [
              "<Figure size 432x288 with 1 Axes>"
            ],
            "image/png": "[encoded data removed]"
          },
          "metadata": {
            "needs_background": "light"
          }
        }
      ]
    },
    {
      "cell_type": "code",
      "source": [
        "#plot losses\n",
        "\n",
        "plt.plot(train_losses,'-o')\n",
        "\n",
        "\n",
        "plt.xlabel('Epoch')\n",
        "plt.ylabel('Losses')\n",
        "plt.title('Train Losses')\n",
        "\n",
        "plt.show()"
      ],
      "metadata": {
        "colab": {
          "base_uri": "https://localhost:8080/",
          "height": 295
        },
        "outputId": "083e1a29-24b2-414d-a267-d9ee7bde1680",
        "id": "EFVM-pp4bBq5"
      },
      "execution_count": 43,
      "outputs": [
        {
          "output_type": "display_data",
          "data": {
            "text/plain": [
              "<Figure size 432x288 with 1 Axes>"
            ],
            "image/png": "[encoded data removed]"
          },
          "metadata": {
            "needs_background": "light"
          }
        }
      ]
    },
    {
      "cell_type": "code",
      "source": [
        "cm = confusion_matrix(y_true, y_pred)\n",
        "print(cm)"
      ],
      "metadata": {
        "colab": {
          "base_uri": "https://localhost:8080/"
        },
        "outputId": "51bea0a4-330b-4754-fd18-7d1e5aad51b6",
        "id": "nzEYJpFRbBq5"
      },
      "execution_count": 44,
      "outputs": [
        {
          "output_type": "stream",
          "name": "stdout",
          "text": [
            "[[1130    4    1    0    0]\n",
            " [   2  968   18   16    6]\n",
            " [   3   40  824   10   15]\n",
            " [  14   16    8  975   15]\n",
            " [  10   14   13   22  950]]\n"
          ]
        }
      ]
    },
    {
      "cell_type": "markdown",
      "source": [
        "Confusion Matrix"
      ],
      "metadata": {
        "id": "XlpCR2tpKX19"
      }
    },
    {
      "cell_type": "code",
      "source": [
        "# Plot the confusion matrix\n",
        "plt.imshow(cm, cmap=plt.cm.Blues)\n",
        "plt.xlabel('Predicted labels')\n",
        "plt.ylabel('True labels')\n",
        "plt.xticks(np.arange(5))\n",
        "plt.yticks(np.arange(5))\n",
        "plt.title('Confusion Matrix')\n",
        "plt.colorbar()\n",
        "\n",
        "for i in range(5):\n",
        "    for j in range(5):\n",
        "        plt.text(j, i, cm[i, j], ha='center', va='center', color='red')\n",
        "\n",
        "plt.show()"
      ],
      "metadata": {
        "colab": {
          "base_uri": "https://localhost:8080/",
          "height": 295
        },
        "outputId": "0e3f7014-1ee2-4f0c-b7c0-4c267789a821",
        "id": "OQinCOvnbBq5"
      },
      "execution_count": 45,
      "outputs": [
        {
          "output_type": "display_data",
          "data": {
            "text/plain": [
              "<Figure size 432x288 with 2 Axes>"
            ],
            "image/png": "[encoded data removed]"
          },
          "metadata": {
            "needs_background": "light"
          }
        }
      ]
    },
    {
      "cell_type": "markdown",
      "source": [
        "Classification Report:"
      ],
      "metadata": {
        "id": "Y8SyWjctKa0f"
      }
    },
    {
      "cell_type": "code",
      "source": [
        "report = classification_report(y_true, y_pred)\n",
        "print(report)"
      ],
      "metadata": {
        "colab": {
          "base_uri": "https://localhost:8080/"
        },
        "outputId": "acf9079b-04a5-43fe-db34-b4a789144936",
        "id": "EOoiF1UrbBq5"
      },
      "execution_count": 46,
      "outputs": [
        {
          "output_type": "stream",
          "name": "stdout",
          "text": [
            "              precision    recall  f1-score   support\n",
            "\n",
            "           0       0.97      1.00      0.99      1135\n",
            "           1       0.93      0.96      0.94      1010\n",
            "           2       0.95      0.92      0.94       892\n",
            "           3       0.95      0.95      0.95      1028\n",
            "           4       0.96      0.94      0.95      1009\n",
            "\n",
            "    accuracy                           0.96      5074\n",
            "   macro avg       0.95      0.95      0.95      5074\n",
            "weighted avg       0.96      0.96      0.96      5074\n",
            "\n"
          ]
        }
      ]
    },
    {
      "cell_type": "code",
      "source": [],
      "metadata": {
        "id": "sjhshCOlK-NF"
      },
      "execution_count": 46,
      "outputs": []
    },
    {
      "cell_type": "code",
      "source": [],
      "metadata": {
        "id": "vnsU2W2KczRd"
      },
      "execution_count": null,
      "outputs": []
    }
  ]
}