{
  "cells": [
    {
      "cell_type": "code",
      "execution_count": null,
      "metadata": {
        "id": "327miAO9e_qj"
      },
      "outputs": [],
      "source": [
        "import torch\n",
        "import torchvision\n",
        "import torch.nn as nn\n",
        "import torch.optim as optim\n",
        "from torch.utils.data import DataLoader\n",
        "from torchvision.transforms import transforms\n",
        "from sklearn.metrics import accuracy_score\n",
        "import tqdm\n",
        "\n",
        "import matplotlib.pyplot as plt\n",
        "import numpy as np\n",
        "\n",
        "# Define the transforms for the dataset\n",
        "transform = transforms.Compose([\n",
        "    transforms.Resize(256),\n",
        "    transforms.CenterCrop(224),\n",
        "    transforms.ToTensor(),\n",
        "    transforms.Normalize(mean=[0.5, 0.5, 0.5], std=[0.5, 0.5, 0.5])\n",
        "])\n",
        "\n"
      ]
    },
    {
      "cell_type": "code",
      "execution_count": null,
      "metadata": {
        "id": "8gtc-buYzksF"
      },
      "outputs": [],
      "source": [
        "# Define the CelebA dataset and loader\n",
        "dataset = torchvision.datasets.CelebA(root='/content/drive/MyDrive/dataset_celeba', split='train', transform=transform, download=False)\n",
        "test_dataset = torchvision.datasets.CelebA(root='/content/drive/MyDrive/dataset_celeba', split='test', transform=transform, download=False)"
      ]
    },
    {
      "cell_type": "code",
      "execution_count": null,
      "metadata": {
        "id": "6R_rc5F0iQwd"
      },
      "outputs": [],
      "source": [
        "loader = DataLoader(dataset, batch_size=256, shuffle=True)\n",
        "test_loader = DataLoader(test_dataset, batch_size=256, shuffle=True)"
      ]
    },
    {
      "cell_type": "code",
      "execution_count": null,
      "metadata": {
        "id": "v1uAFxhBfAU7",
        "outputId": "446e0a27-bf29-4b89-825a-3c36592a6403"
      },
      "outputs": [
        {
          "name": "stdout",
          "output_type": "stream",
          "text": [
            "Epoch 1 loss: 1.8634889135195774\n",
            "Epoch 2 loss: 1.6764656790772323\n",
            "Epoch 3 loss: 1.550884153295613\n",
            "Epoch 4 loss: 1.3751914934167322\n",
            "Epoch 5 loss: 1.1226177940953452\n",
            "Epoch 6 loss: 0.7756763532664042\n",
            "Epoch 7 loss: 0.48496983279971956\n",
            "Epoch 8 loss: 0.31265871437653053\n",
            "Epoch 9 loss: 0.23292772742515466\n",
            "Epoch 10 loss: 0.1934398588777151\n"
          ]
        }
      ],
      "source": [
        "# Define the ResNet18 model with a modified final layer for multi-task learning\n",
        "class MultiTaskResNet18(nn.Module):\n",
        "    def __init__(self, num_classes):\n",
        "        super(MultiTaskResNet18, self).__init__()\n",
        "        self.num_classes = num_classes\n",
        "        self.resnet18 = torchvision.models.resnet18(pretrained=True)\n",
        "        # remove the last fully connected layer\n",
        "        self.resnet18.fc = nn.Identity()\n",
        "        for param in self.resnet18.parameters():\n",
        "            param.requires_grad = False\n",
        "        for param in self.resnet18.layer4.parameters():\n",
        "            param.requires_grad = True\n",
        "\n",
        "        self.fc_gender = nn.Linear(512, 2)\n",
        "        self.fc_smiling = nn.Linear(512, 2)\n",
        "        self.fc_young = nn.Linear(512, 2)\n",
        "        self.fc_glasses = nn.Linear(512, 2)\n",
        "        self.fc_hat = nn.Linear(512, 2)\n",
        "        self.fc_necklace = nn.Linear(512, 2)\n",
        "        self.fc_earrings = nn.Linear(512, 2)\n",
        "        self.fc_lipstick = nn.Linear(512, 2)\n",
        "        \n",
        "    def forward(self, x):\n",
        "        x = self.resnet18(x)\n",
        "        x = x.view(-1, 512)\n",
        "        out_gender = self.fc_gender(x)\n",
        "        out_smiling = self.fc_smiling(x)\n",
        "        out_young = self.fc_young(x)\n",
        "        out_glasses = self.fc_glasses(x)\n",
        "        out_hat = self.fc_hat(x)\n",
        "        out_necklace = self.fc_necklace(x)\n",
        "        out_earrings = self.fc_earrings(x)\n",
        "        out_lipstick = self.fc_lipstick(x)\n",
        "\n",
        "        return out_gender, out_smiling, out_young, out_glasses, out_hat, out_necklace, out_earrings, out_lipstick\n",
        "\n",
        "\n",
        "#store losses for each task\n",
        "epoch_losses_gender = []\n",
        "epoch_losses_smiling = []\n",
        "epoch_losses_young = []\n",
        "epoch_losses_glasses = []\n",
        "epoch_losses_hat = []\n",
        "epoch_losses_necklace = []\n",
        "epoch_losses_earrings = []\n",
        "epoch_losses_lipstick = []\n",
        "\n",
        "\n",
        "# Define the training loop\n",
        "def train(model, loader, optimizer, criterion, num_epochs):\n",
        "    for epoch in range(num_epochs):\n",
        "        # Set the model to gpu\n",
        "        model = model.cuda()\n",
        "        model.train()\n",
        "        running_loss = 0.0\n",
        "\n",
        "        running_loss_gender = 0.0\n",
        "        running_loss_smiling = 0.0\n",
        "        running_loss_young = 0.0\n",
        "        running_loss_glasses = 0.0\n",
        "        running_loss_hat = 0.0\n",
        "        running_loss_necklace = 0.0\n",
        "        running_loss_earrings = 0.0\n",
        "        running_loss_lipstick = 0.0 \n",
        "        \n",
        "        for i, data in enumerate(loader,0):\n",
        "            inputs, targets = data\n",
        "            inputs = inputs.cuda()\n",
        "            targets = targets.cuda()\n",
        "            gender, smiling, young, glasses, hat, necklace, earrings, lipstick = targets[:, 20], targets[:, 31], targets[:, 39], targets[:, 17], targets[:, 2], targets[:, 6], targets[:, 7], targets[:, 4]\n",
        "            optimizer.zero_grad()\n",
        "            outputs = model(inputs)\n",
        "            loss_gender = criterion(outputs[0], gender)\n",
        "            loss_smiling = criterion(outputs[1], smiling)\n",
        "            loss_young = criterion(outputs[2], young)\n",
        "            loss_glasses = criterion(outputs[3], glasses)\n",
        "            loss_hat = criterion(outputs[4], hat)\n",
        "            loss_necklace = criterion(outputs[5], necklace)\n",
        "            loss_earrings = criterion(outputs[6], earrings)\n",
        "            loss_lipstick = criterion(outputs[7], lipstick)\n",
        "            loss = loss_gender + loss_smiling + loss_young + loss_glasses + loss_hat + loss_necklace + loss_earrings + loss_lipstick\n",
        "            loss.backward()\n",
        "            optimizer.step()\n",
        "            running_loss += loss.item()\n",
        "\n",
        "            running_loss_gender += loss_gender\n",
        "            running_loss_smiling += loss_smiling\n",
        "            running_loss_young += loss_young\n",
        "            running_loss_glasses += loss_glasses\n",
        "            running_loss_hat += loss_hat\n",
        "            running_loss_necklace += loss_necklace\n",
        "            running_loss_earrings += loss_earrings\n",
        "            running_loss_lipstick += loss_lipstick\n",
        "\n",
        "        print(f\"Epoch {epoch+1} loss: {running_loss/len(loader)}\")\n",
        "\n",
        "        epoch_losses_gender.append(running_loss_gender/len(loader))\n",
        "        epoch_losses_smiling.append(running_loss_smiling/len(loader))\n",
        "        epoch_losses_young.append(running_loss_young/len(loader))\n",
        "        epoch_losses_glasses.append(running_loss_glasses/len(loader))\n",
        "        epoch_losses_hat.append(running_loss_hat/len(loader))\n",
        "        epoch_losses_necklace.append(running_loss_necklace/len(loader))\n",
        "        epoch_losses_earrings.append(running_loss_earrings/len(loader))\n",
        "        epoch_losses_lipstick.append(running_loss_lipstick/len(loader))\n",
        "\n",
        "\n",
        "\n",
        "\n",
        "\n",
        "model = MultiTaskResNet18(num_classes=2)\n",
        "\n",
        "# Define the loss function and optimizer for training\n",
        "criterion = nn.CrossEntropyLoss()\n",
        "optimizer = optim.Adam(model.parameters(), lr=0.001)\n",
        "\n",
        "train(model, loader, optimizer, criterion, num_epochs=10)"
      ]
    },
    {
      "cell_type": "code",
      "execution_count": null,
      "metadata": {
        "id": "SVjacbJ2zksH"
      },
      "outputs": [],
      "source": [
        "for i in range(10):\n",
        "    epoch_losses_gender[i] = epoch_losses_gender[i].item()\n",
        "    epoch_losses_smiling[i] = epoch_losses_smiling[i].item()\n",
        "    epoch_losses_young[i] = epoch_losses_young[i].item()\n",
        "    epoch_losses_glasses[i] = epoch_losses_glasses[i].item()\n",
        "    epoch_losses_hat[i] = epoch_losses_hat[i].item()\n",
        "    epoch_losses_necklace[i] = epoch_losses_necklace[i].item()\n",
        "    epoch_losses_earrings[i] = epoch_losses_earrings[i].item()\n",
        "    epoch_losses_lipstick[i] = epoch_losses_lipstick[i].item()"
      ]
    },
    {
      "cell_type": "code",
      "execution_count": null,
      "metadata": {
        "id": "azS-wuK9zksH",
        "outputId": "e8712051-6feb-4d5f-e57a-70eda5c58810"
      },
      "outputs": [
        {
          "data": {
            "text/plain": [
              "<matplotlib.legend.Legend at 0x7f1c52fddc40>"
            ]
          },
          "execution_count": 29,
          "metadata": {},
          "output_type": "execute_result"
        },
        {
          "data": {
            "image/png": "[encoded data removed]",
            "text/plain": [
              "<Figure size 720x576 with 1 Axes>"
            ]
          },
          "metadata": {
            "needs_background": "light"
          },
          "output_type": "display_data"
        }
      ],
      "source": [
        "#Plot epoch_losses for each task v/s number of epochs\n",
        "plot_epochs = [i for i in range(1,11)]\n",
        "\n",
        "\n",
        "\n",
        "plt.figure(figsize=(10,8))\n",
        "plt.title('Loss v/s Number of epochs')\n",
        "plt.ylabel('Loss for each task')\n",
        "plt.xlabel('Number of epochs')\n",
        "\n",
        "# add legends\n",
        "\n",
        "plt.plot(epoch_losses_gender,'-o', label = 'Gender')\n",
        "plt.plot(epoch_losses_smiling,'-o', label = 'Smiling')\n",
        "plt.plot(epoch_losses_young,'-o', label = 'Young')\n",
        "plt.plot(epoch_losses_glasses,'-o', label = 'Glasses')\n",
        "plt.plot(epoch_losses_hat,'-o', label = 'Hat')\n",
        "plt.plot(epoch_losses_necklace,'-o', label = 'Necklace')\n",
        "plt.plot(epoch_losses_earrings,'-o', label = 'Earrings')\n",
        "plt.plot(epoch_losses_lipstick,'-o', label = 'Lipstick')\n",
        "\n",
        "plt.legend()"
      ]
    },
    {
      "cell_type": "code",
      "execution_count": null,
      "metadata": {
        "id": "YUxFWEHpfSFj",
        "outputId": "9fe333b5-2ce1-4cd6-fe89-6f08a2b48167"
      },
      "outputs": [
        {
          "name": "stdout",
          "output_type": "stream",
          "text": [
            "Gender accuracy: 0.9688407975152791\n",
            "Smiling accuracy: 0.911582005811041\n",
            "Young accuracy: 0.8638412984670875\n",
            "Glasses accuracy: 0.97956116621581\n",
            "Hat accuracy: 0.7972147079450956\n",
            "Necklace accuracy: 0.6718765654744013\n",
            "Earrings accuracy: 0.8152489730487927\n",
            "Lipstick accuracy: 0.9877767758741609\n"
          ]
        }
      ],
      "source": [
        "\n",
        "\n",
        "model.eval()\n",
        "gender_preds = []\n",
        "smiling_preds = []\n",
        "young_preds = []\n",
        "glasses_preds = []\n",
        "hat_preds = []\n",
        "necklace_preds = []\n",
        "earrings_preds = []\n",
        "lipstick_preds = []\n",
        "gender_labels = []\n",
        "smiling_labels = []\n",
        "young_labels = []\n",
        "glasses_labels = []\n",
        "hat_labels = []\n",
        "necklace_labels = []\n",
        "earrings_labels = []\n",
        "lipstick_labels = []\n",
        "\n",
        "with torch.no_grad():\n",
        "    for data in test_loader:\n",
        "        inputs, targets = data\n",
        "        inputs = inputs.cuda()\n",
        "        targets = targets.cuda()\n",
        "        gender, smiling, young, glasses, hat, necklace, earrings, lipstick = targets[:, 20], targets[:, 31], targets[:, 39], targets[:, 17], targets[:, 2], targets[:, 6], targets[:, 7], targets[:, 4]\n",
        "        outputs = model(inputs)\n",
        "        gender_preds.extend(torch.argmax(outputs[0], dim=1).tolist())\n",
        "        smiling_preds.extend(torch.argmax(outputs[1], dim=1).tolist())\n",
        "        young_preds.extend(torch.argmax(outputs[2], dim=1).tolist())\n",
        "        glasses_preds.extend(torch.argmax(outputs[3], dim=1).tolist())\n",
        "        hat_preds.extend(torch.argmax(outputs[4], dim=1).tolist())\n",
        "        necklace_preds.extend(torch.argmax(outputs[5], dim=1).tolist())\n",
        "        earrings_preds.extend(torch.argmax(outputs[6], dim=1).tolist())\n",
        "        lipstick_preds.extend(torch.argmax(outputs[7], dim=1).tolist())\n",
        "        gender_labels.extend(gender.tolist())\n",
        "        smiling_labels.extend(smiling.tolist())\n",
        "        young_labels.extend(young.tolist())\n",
        "        glasses_labels.extend(glasses.tolist())\n",
        "        hat_labels.extend(hat.tolist())\n",
        "        necklace_labels.extend(necklace.tolist())\n",
        "        earrings_labels.extend(earrings.tolist())\n",
        "        lipstick_labels.extend(lipstick.tolist())\n",
        "\n",
        "\n",
        "gender_acc = accuracy_score(gender_labels, gender_preds)\n",
        "smiling_acc = accuracy_score(smiling_labels, smiling_preds)\n",
        "young_acc = accuracy_score(young_labels, young_preds)\n",
        "glasses_acc = accuracy_score(glasses_labels, glasses_preds)\n",
        "hat_acc = accuracy_score(hat_labels, hat_preds)\n",
        "necklace_acc = accuracy_score(necklace_labels, necklace_preds)\n",
        "earrings_acc = accuracy_score(earrings_labels, earrings_preds)\n",
        "lipstick_acc = accuracy_score(lipstick_labels, lipstick_preds)\n",
        "\n",
        "print(f\"Gender accuracy: {gender_acc}\")\n",
        "print(f\"Smiling accuracy: {smiling_acc}\")\n",
        "print(f\"Young accuracy: {young_acc}\")\n",
        "print(f\"Glasses accuracy: {glasses_acc}\")\n",
        "print(f\"Hat accuracy: {hat_acc}\")\n",
        "print(f\"Necklace accuracy: {necklace_acc}\")\n",
        "print(f\"Earrings accuracy: {earrings_acc}\")\n",
        "print(f\"Lipstick accuracy: {lipstick_acc}\")"
      ]
    },
    {
      "cell_type": "code",
      "execution_count": null,
      "metadata": {
        "id": "nxx30VhcfwdL"
      },
      "outputs": [],
      "source": [
        "all_labels = gender_labels+smiling_labels+young_labels+glasses_labels+hat_labels+necklace_labels+earrings_labels+lipstick_labels\n",
        "all_preds = gender_preds+smiling_preds+young_preds+glasses_preds+hat_preds+necklace_preds+earrings_preds+lipstick_preds"
      ]
    },
    {
      "cell_type": "code",
      "execution_count": null,
      "metadata": {
        "id": "2-zDX_ypZvaT",
        "outputId": "dabc13ac-1917-401e-9f62-21204c818a66"
      },
      "outputs": [
        {
          "name": "stdout",
          "output_type": "stream",
          "text": [
            "Overall accuracy: 0.8744927862939585\n"
          ]
        }
      ],
      "source": [
        "overall_acc = accuracy_score(all_labels, all_preds)\n",
        "print(f\"Overall accuracy: {overall_acc}\")"
      ]
    },
    {
      "cell_type": "markdown",
      "metadata": {
        "id": "kniaDMDZzksI"
      },
      "source": [
        "Question 2"
      ]
    },
    {
      "cell_type": "code",
      "execution_count": null,
      "metadata": {
        "id": "fYKsnHPPzksJ"
      },
      "outputs": [],
      "source": [
        "Attributes = ['Gender', 'Smiling', 'Young', 'Wearing Glasses', 'Wearing Hat', 'Wearing Necklace', 'Wearing Earrings', 'Wearing Lipstick']"
      ]
    },
    {
      "cell_type": "markdown",
      "metadata": {
        "id": "rTbUsegjzksJ"
      },
      "source": [
        "Drop rate using Metric based on Network Depth"
      ]
    },
    {
      "cell_type": "code",
      "execution_count": null,
      "metadata": {
        "id": "X49D8sxyZvYr",
        "outputId": "1e01a15e-4831-47ac-cbaa-dd13a59e1475"
      },
      "outputs": [
        {
          "name": "stdout",
          "output_type": "stream",
          "text": [
            "Number of layers in the model: 10\n"
          ]
        }
      ],
      "source": [
        "# Calulate the number of layers in the model\n",
        "num_layers = 0\n",
        "for layer in model.children():\n",
        "    num_layers += 1\n",
        "\n",
        "num_layers += 1 # Add 1 for the final linear layer\n",
        "\n",
        "# Print the number of layers in the model\n",
        "print(f\"Number of layers in the model: {num_layers}\")"
      ]
    },
    {
      "cell_type": "code",
      "execution_count": null,
      "metadata": {
        "id": "uFC-Po8yzksJ",
        "outputId": "353e7eea-6204-4bef-871d-686c03eac292"
      },
      "outputs": [
        {
          "name": "stdout",
          "output_type": "stream",
          "text": [
            "MultiTaskResNet18(\n",
            "  (resnet18): ResNet(\n",
            "    (conv1): Conv2d(3, 64, kernel_size=(7, 7), stride=(2, 2), padding=(3, 3), bias=False)\n",
            "    (bn1): BatchNorm2d(64, eps=1e-05, momentum=0.1, affine=True, track_running_stats=True)\n",
            "    (relu): ReLU(inplace=True)\n",
            "    (maxpool): MaxPool2d(kernel_size=3, stride=2, padding=1, dilation=1, ceil_mode=False)\n",
            "    (layer1): Sequential(\n",
            "      (0): BasicBlock(\n",
            "        (conv1): Conv2d(64, 64, kernel_size=(3, 3), stride=(1, 1), padding=(1, 1), bias=False)\n",
            "        (bn1): BatchNorm2d(64, eps=1e-05, momentum=0.1, affine=True, track_running_stats=True)\n",
            "        (relu): ReLU(inplace=True)\n",
            "        (conv2): Conv2d(64, 64, kernel_size=(3, 3), stride=(1, 1), padding=(1, 1), bias=False)\n",
            "        (bn2): BatchNorm2d(64, eps=1e-05, momentum=0.1, affine=True, track_running_stats=True)\n",
            "      )\n",
            "      (1): BasicBlock(\n",
            "        (conv1): Conv2d(64, 64, kernel_size=(3, 3), stride=(1, 1), padding=(1, 1), bias=False)\n",
            "        (bn1): BatchNorm2d(64, eps=1e-05, momentum=0.1, affine=True, track_running_stats=True)\n",
            "        (relu): ReLU(inplace=True)\n",
            "        (conv2): Conv2d(64, 64, kernel_size=(3, 3), stride=(1, 1), padding=(1, 1), bias=False)\n",
            "        (bn2): BatchNorm2d(64, eps=1e-05, momentum=0.1, affine=True, track_running_stats=True)\n",
            "      )\n",
            "    )\n",
            "    (layer2): Sequential(\n",
            "      (0): BasicBlock(\n",
            "        (conv1): Conv2d(64, 128, kernel_size=(3, 3), stride=(2, 2), padding=(1, 1), bias=False)\n",
            "        (bn1): BatchNorm2d(128, eps=1e-05, momentum=0.1, affine=True, track_running_stats=True)\n",
            "        (relu): ReLU(inplace=True)\n",
            "        (conv2): Conv2d(128, 128, kernel_size=(3, 3), stride=(1, 1), padding=(1, 1), bias=False)\n",
            "        (bn2): BatchNorm2d(128, eps=1e-05, momentum=0.1, affine=True, track_running_stats=True)\n",
            "        (downsample): Sequential(\n",
            "          (0): Conv2d(64, 128, kernel_size=(1, 1), stride=(2, 2), bias=False)\n",
            "          (1): BatchNorm2d(128, eps=1e-05, momentum=0.1, affine=True, track_running_stats=True)\n",
            "        )\n",
            "      )\n",
            "      (1): BasicBlock(\n",
            "        (conv1): Conv2d(128, 128, kernel_size=(3, 3), stride=(1, 1), padding=(1, 1), bias=False)\n",
            "        (bn1): BatchNorm2d(128, eps=1e-05, momentum=0.1, affine=True, track_running_stats=True)\n",
            "        (relu): ReLU(inplace=True)\n",
            "        (conv2): Conv2d(128, 128, kernel_size=(3, 3), stride=(1, 1), padding=(1, 1), bias=False)\n",
            "        (bn2): BatchNorm2d(128, eps=1e-05, momentum=0.1, affine=True, track_running_stats=True)\n",
            "      )\n",
            "    )\n",
            "    (layer3): Sequential(\n",
            "      (0): BasicBlock(\n",
            "        (conv1): Conv2d(128, 256, kernel_size=(3, 3), stride=(2, 2), padding=(1, 1), bias=False)\n",
            "        (bn1): BatchNorm2d(256, eps=1e-05, momentum=0.1, affine=True, track_running_stats=True)\n",
            "        (relu): ReLU(inplace=True)\n",
            "        (conv2): Conv2d(256, 256, kernel_size=(3, 3), stride=(1, 1), padding=(1, 1), bias=False)\n",
            "        (bn2): BatchNorm2d(256, eps=1e-05, momentum=0.1, affine=True, track_running_stats=True)\n",
            "        (downsample): Sequential(\n",
            "          (0): Conv2d(128, 256, kernel_size=(1, 1), stride=(2, 2), bias=False)\n",
            "          (1): BatchNorm2d(256, eps=1e-05, momentum=0.1, affine=True, track_running_stats=True)\n",
            "        )\n",
            "      )\n",
            "      (1): BasicBlock(\n",
            "        (conv1): Conv2d(256, 256, kernel_size=(3, 3), stride=(1, 1), padding=(1, 1), bias=False)\n",
            "        (bn1): BatchNorm2d(256, eps=1e-05, momentum=0.1, affine=True, track_running_stats=True)\n",
            "        (relu): ReLU(inplace=True)\n",
            "        (conv2): Conv2d(256, 256, kernel_size=(3, 3), stride=(1, 1), padding=(1, 1), bias=False)\n",
            "        (bn2): BatchNorm2d(256, eps=1e-05, momentum=0.1, affine=True, track_running_stats=True)\n",
            "      )\n",
            "    )\n",
            "    (layer4): Sequential(\n",
            "      (0): BasicBlock(\n",
            "        (conv1): Conv2d(256, 512, kernel_size=(3, 3), stride=(2, 2), padding=(1, 1), bias=False)\n",
            "        (bn1): BatchNorm2d(512, eps=1e-05, momentum=0.1, affine=True, track_running_stats=True)\n",
            "        (relu): ReLU(inplace=True)\n",
            "        (conv2): Conv2d(512, 512, kernel_size=(3, 3), stride=(1, 1), padding=(1, 1), bias=False)\n",
            "        (bn2): BatchNorm2d(512, eps=1e-05, momentum=0.1, affine=True, track_running_stats=True)\n",
            "        (downsample): Sequential(\n",
            "          (0): Conv2d(256, 512, kernel_size=(1, 1), stride=(2, 2), bias=False)\n",
            "          (1): BatchNorm2d(512, eps=1e-05, momentum=0.1, affine=True, track_running_stats=True)\n",
            "        )\n",
            "      )\n",
            "      (1): BasicBlock(\n",
            "        (conv1): Conv2d(512, 512, kernel_size=(3, 3), stride=(1, 1), padding=(1, 1), bias=False)\n",
            "        (bn1): BatchNorm2d(512, eps=1e-05, momentum=0.1, affine=True, track_running_stats=True)\n",
            "        (relu): ReLU(inplace=True)\n",
            "        (conv2): Conv2d(512, 512, kernel_size=(3, 3), stride=(1, 1), padding=(1, 1), bias=False)\n",
            "        (bn2): BatchNorm2d(512, eps=1e-05, momentum=0.1, affine=True, track_running_stats=True)\n",
            "      )\n",
            "    )\n",
            "    (avgpool): AdaptiveAvgPool2d(output_size=(1, 1))\n",
            "    (fc): Identity()\n",
            "  )\n",
            "  (fc_gender): Linear(in_features=512, out_features=2, bias=True)\n",
            "  (fc_smiling): Linear(in_features=512, out_features=2, bias=True)\n",
            "  (fc_young): Linear(in_features=512, out_features=2, bias=True)\n",
            "  (fc_glasses): Linear(in_features=512, out_features=2, bias=True)\n",
            "  (fc_hat): Linear(in_features=512, out_features=2, bias=True)\n",
            "  (fc_necklace): Linear(in_features=512, out_features=2, bias=True)\n",
            "  (fc_earrings): Linear(in_features=512, out_features=2, bias=True)\n",
            "  (fc_lipstick): Linear(in_features=512, out_features=2, bias=True)\n",
            ")\n"
          ]
        }
      ],
      "source": [
        "# Print the model architecture\n",
        "print(model)"
      ]
    },
    {
      "cell_type": "code",
      "execution_count": null,
      "metadata": {
        "id": "JUiHpkkaZvWx",
        "outputId": "7e777c1e-f92e-4d07-f6a4-fc06edc8d5fb"
      },
      "outputs": [
        {
          "name": "stdout",
          "output_type": "stream",
          "text": [
            "Drop Rate based on Network Depth for Gender: 1.0\n",
            "Drop Rate based on Network Depth for Smiling: 1.0\n",
            "Drop Rate based on Network Depth for Young: 1.0\n",
            "Drop Rate based on Network Depth for Wearing Glasses: 1.0\n",
            "Drop Rate based on Network Depth for Wearing Hat: 1.0\n",
            "Drop Rate based on Network Depth for Wearing Necklace: 1.0\n",
            "Drop Rate based on Network Depth for Wearing Earrings: 1.0\n",
            "Drop Rate based on Network Depth for Wearing Lipstick: 1.0\n"
          ]
        }
      ],
      "source": [
        "# The depth of each task will be equal to the number of layers in the model according to our model architecture\n",
        "depth_for_each_task = num_layers\n",
        "\n",
        "for i in range(len(Attributes)):\n",
        "    print(f\"Drop Rate based on Network Depth for {Attributes[i]}: {depth_for_each_task/num_layers}\")"
      ]
    },
    {
      "cell_type": "markdown",
      "metadata": {
        "id": "b1NZmPEtzksK"
      },
      "source": [
        "Drop Rate based on metric based on Task Incompleteness"
      ]
    },
    {
      "cell_type": "code",
      "execution_count": null,
      "metadata": {
        "id": "zWvPjEPRzksK"
      },
      "outputs": [],
      "source": [
        "task_wise_losses = []\n",
        "\n",
        "task_wise_losses.append(epoch_losses_gender)\n",
        "task_wise_losses.append(epoch_losses_smiling)\n",
        "task_wise_losses.append(epoch_losses_young)\n",
        "task_wise_losses.append(epoch_losses_glasses)\n",
        "task_wise_losses.append(epoch_losses_hat)\n",
        "task_wise_losses.append(epoch_losses_necklace)\n",
        "task_wise_losses.append(epoch_losses_earrings)\n",
        "task_wise_losses.append(epoch_losses_lipstick)\n"
      ]
    },
    {
      "cell_type": "code",
      "execution_count": null,
      "metadata": {
        "id": "sQEC595VZyWf",
        "outputId": "d94be3f8-7c7d-4a0c-e083-cf2440fa761d"
      },
      "outputs": [
        {
          "name": "stdout",
          "output_type": "stream",
          "text": [
            "Relative Incompleteness for Gender: 0.6260592080230313\n",
            "Relative Incompleteness for Smiling: 1\n",
            "Relative Incompleteness for Young: 0.8617230068700827\n",
            "Relative Incompleteness for Wearing Glasses: 0.889436204908604\n",
            "Relative Incompleteness for Wearing Hat: 1\n",
            "Relative Incompleteness for Wearing Necklace: 1\n",
            "Relative Incompleteness for Wearing Earrings: 1\n",
            "Relative Incompleteness for Wearing Lipstick: 0.765159548862277\n"
          ]
        }
      ],
      "source": [
        "#Incompleteness for each task\n",
        "\n",
        "#Find ratio of 1st epoch loss to 10th epoch loss for each task\n",
        "loss_ratio = []    # I(10, t)\n",
        "\n",
        "for i in range(len(Attributes)):\n",
        "    loss_ratio.append(task_wise_losses[i][9]/task_wise_losses[i][0])\n",
        "\n",
        "expected_val_at_10th_epoch = np.mean(loss_ratio) #E(I(10, t))\n",
        "\n",
        "# Relative Incompleteness for each task\n",
        "relative_incompleteness = []  # min(1, I(10, t)/E(I(10, t)) )\n",
        "\n",
        "for i in range(len(Attributes)):\n",
        "    relative_incompleteness.append(min(1, loss_ratio[i]/expected_val_at_10th_epoch))\n",
        "\n",
        "    print(f\"Relative Incompleteness for {Attributes[i]}: {relative_incompleteness[i]}\")\n",
        "    \n",
        "\n"
      ]
    },
    {
      "cell_type": "code",
      "execution_count": null,
      "metadata": {
        "id": "1V47Xr9CzksK",
        "outputId": "8f9c88aa-35ed-4121-d950-561969da96d2"
      },
      "outputs": [
        {
          "data": {
            "text/plain": [
              "[0.05751930951692053,\n",
              " 0.10530718960709223,\n",
              " 0.07917096612400328,\n",
              " 0.08171712149597693,\n",
              " 0.11514838693009333,\n",
              " 0.1151883445515038,\n",
              " 0.11065103241728827,\n",
              " 0.07029917994468265]"
            ]
          },
          "execution_count": 45,
          "metadata": {},
          "output_type": "execute_result"
        }
      ],
      "source": [
        "loss_ratio"
      ]
    },
    {
      "cell_type": "code",
      "execution_count": null,
      "metadata": {
        "id": "xpoFO4IhzksK",
        "outputId": "4ae06b6b-2045-47b5-da23-e4252c09e0f0"
      },
      "outputs": [
        {
          "data": {
            "text/plain": [
              "0.09187519132344513"
            ]
          },
          "execution_count": 46,
          "metadata": {},
          "output_type": "execute_result"
        }
      ],
      "source": [
        "expected_val_at_10th_epoch"
      ]
    },
    {
      "cell_type": "markdown",
      "metadata": {
        "id": "XpDRaRewzksK"
      },
      "source": [
        "Using Drop Rate based on Task Incompleteness Metric, The DST(Dropped Scheduled Task) Algorithm is implemented"
      ]
    },
    {
      "cell_type": "code",
      "execution_count": null,
      "metadata": {
        "id": "jW49dl4hzksL"
      },
      "outputs": [],
      "source": [
        "def bernoulli(relative_incompleteness):\n",
        "\n",
        "    bernoulli = []\n",
        "    for i in range(8):\n",
        "        bernoulli.append(np.random.binomial(1,relative_incompleteness[i]))\n",
        "    # Return the bernoulli output\n",
        "    return bernoulli"
      ]
    },
    {
      "cell_type": "code",
      "execution_count": null,
      "metadata": {
        "id": "Q62OW4GqzksL",
        "outputId": "fa7523bd-91a4-4d4e-ec44-6d5509a93182"
      },
      "outputs": [
        {
          "name": "stdout",
          "output_type": "stream",
          "text": [
            "[0, 1, 1, 1, 1, 1, 1, 1]\n"
          ]
        }
      ],
      "source": [
        "print(bernoulli(relative_incompleteness))"
      ]
    },
    {
      "cell_type": "code",
      "execution_count": null,
      "metadata": {
        "id": "_HUdOQLhzksL",
        "outputId": "f3ef10b1-8347-4d0d-d85e-e6a9ae9506c6"
      },
      "outputs": [
        {
          "data": {
            "text/plain": [
              "[[], [], [], [], [], [], [], []]"
            ]
          },
          "execution_count": 51,
          "metadata": {},
          "output_type": "execute_result"
        }
      ],
      "source": [
        "task_wise_losses = [[] for i in range(8)]"
      ]
    },
    {
      "cell_type": "code",
      "execution_count": null,
      "metadata": {
        "id": "lC2YpWSJzksL",
        "outputId": "a619ad9d-c837-4052-ef9f-d2cc6ec5836e"
      },
      "outputs": [
        {
          "name": "stdout",
          "output_type": "stream",
          "text": [
            "Epoch 1 loss: 1.8636206000481013\n",
            "Epoch 2 loss: 1.6751287410844047\n",
            "Epoch 3 loss: 1.5368540566297446\n",
            "Epoch 4 loss: 1.3689731441953648\n",
            "Epoch 5 loss: 1.1191801042676721\n",
            "Epoch 6 loss: 0.7899344633772688\n",
            "Epoch 7 loss: 0.4989400660185694\n",
            "Epoch 8 loss: 0.33030131250713607\n",
            "Epoch 9 loss: 0.2468746958546481\n",
            "Epoch 10 loss: 0.20452097222302695\n"
          ]
        }
      ],
      "source": [
        "# Define the training loop\n",
        "def train(model, loader, optimizer, criterion, num_epochs):\n",
        "    for epoch in range(num_epochs):\n",
        "        # Set the model to gpu\n",
        "        model = model.cuda()\n",
        "        model.train()\n",
        "        running_loss = 0.0\n",
        "\n",
        "        running_loss_gender = 0.0\n",
        "        running_loss_smiling = 0.0\n",
        "        running_loss_young = 0.0\n",
        "        running_loss_glasses = 0.0\n",
        "        running_loss_hat = 0.0\n",
        "        running_loss_necklace = 0.0\n",
        "        running_loss_earrings = 0.0\n",
        "        running_loss_lipstick = 0.0 \n",
        "        \n",
        "        for i, data in enumerate(loader,0):\n",
        "            inputs, targets = data\n",
        "            inputs = inputs.cuda()\n",
        "            targets = targets.cuda()\n",
        "            gender, smiling, young, glasses, hat, necklace, earrings, lipstick = targets[:, 20], targets[:, 31], targets[:, 39], targets[:, 17], targets[:, 2], targets[:, 6], targets[:, 7], targets[:, 4]\n",
        "            optimizer.zero_grad()\n",
        "            outputs = model(inputs)\n",
        "            loss_gender = criterion(outputs[0], gender)\n",
        "            loss_smiling = criterion(outputs[1], smiling)\n",
        "            loss_young = criterion(outputs[2], young)\n",
        "            loss_glasses = criterion(outputs[3], glasses)\n",
        "            loss_hat = criterion(outputs[4], hat)\n",
        "            loss_necklace = criterion(outputs[5], necklace)\n",
        "            loss_earrings = criterion(outputs[6], earrings)\n",
        "            loss_lipstick = criterion(outputs[7], lipstick)\n",
        "\n",
        "#############################################################################\n",
        "            ##DST Algorithm Implementation using Task Incompleteness metric\n",
        "            relative_incompleteness = []\n",
        "            \n",
        "            if(epoch !=0):\n",
        "                #Find ratio of 1st epoch loss to kth epoch loss for each task\n",
        "                loss_ratio = []    # I(k, t)\n",
        "\n",
        "                for i in range(len(Attributes)):\n",
        "                    loss_ratio.append(task_wise_losses[i][epoch-1]/task_wise_losses[i][0])\n",
        "\n",
        "                expected_val_at_kth_epoch = np.mean(loss_ratio) #E(I(k, t))\n",
        "\n",
        "                # Relative Incompleteness for each task\n",
        "                # min(1, I(k, t)/E(I(k, t)) )\n",
        "\n",
        "                for i in range(len(Attributes)):\n",
        "                    relative_incompleteness.append(min(1, loss_ratio[i]/expected_val_at_kth_epoch))\n",
        "\n",
        "\n",
        "            ber = []\n",
        "            if(epoch == 0):\n",
        "                ber = [1,1,1,1,1,1,1,1]\n",
        "            \n",
        "            else:\n",
        "                ber = bernoulli(relative_incompleteness)\n",
        "\n",
        "\n",
        "\n",
        "            loss = ber[0]*loss_gender + ber[1]*loss_smiling + ber[2]*loss_young + ber[3]*loss_glasses + ber[4]*loss_hat + ber[5]*loss_necklace + ber[6]*loss_earrings + ber[7]*loss_lipstick\n",
        "\n",
        "#############################################################################\n",
        "\n",
        "\n",
        "            loss.backward()\n",
        "            optimizer.step()\n",
        "            running_loss += loss.item()\n",
        "\n",
        "            running_loss_gender += loss_gender\n",
        "            running_loss_smiling += loss_smiling\n",
        "            running_loss_young += loss_young\n",
        "            running_loss_glasses += loss_glasses\n",
        "            running_loss_hat += loss_hat\n",
        "            running_loss_necklace += loss_necklace\n",
        "            running_loss_earrings += loss_earrings\n",
        "            running_loss_lipstick += loss_lipstick\n",
        "\n",
        "        print(f\"Epoch {epoch+1} loss: {running_loss/len(loader)}\")\n",
        "        \n",
        "        task_wise_losses[0].append((running_loss_gender/len(loader)).item())\n",
        "        task_wise_losses[1].append((running_loss_smiling/len(loader)).item())\n",
        "        task_wise_losses[2].append((running_loss_young/len(loader)).item())\n",
        "        task_wise_losses[3].append((running_loss_glasses/len(loader)).item())\n",
        "        task_wise_losses[4].append((running_loss_hat/len(loader)).item())\n",
        "        task_wise_losses[5].append((running_loss_necklace/len(loader)).item())\n",
        "        task_wise_losses[6].append((running_loss_earrings/len(loader)).item())\n",
        "        task_wise_losses[7].append((running_loss_lipstick/len(loader)).item())\n",
        "\n",
        "\n",
        "\n",
        "\n",
        "\n",
        "\n",
        "model = MultiTaskResNet18(num_classes=2)\n",
        "\n",
        "# Define the loss function and optimizer for training\n",
        "criterion = nn.CrossEntropyLoss()\n",
        "optimizer = optim.Adam(model.parameters(), lr=0.001)\n",
        "\n",
        "train(model, loader, optimizer, criterion, num_epochs=10)"
      ]
    },
    {
      "cell_type": "code",
      "execution_count": null,
      "metadata": {
        "id": "0JzRcf5qzksL",
        "outputId": "fe0f1d95-b8ba-4992-fc37-77e296046085"
      },
      "outputs": [
        {
          "data": {
            "text/plain": [
              "<matplotlib.legend.Legend at 0x7f1c52eeb1f0>"
            ]
          },
          "execution_count": 55,
          "metadata": {},
          "output_type": "execute_result"
        },
        {
          "data": {
            "image/png": "[encoded data removed]",
            "text/plain": [
              "<Figure size 720x576 with 1 Axes>"
            ]
          },
          "metadata": {
            "needs_background": "light"
          },
          "output_type": "display_data"
        }
      ],
      "source": [
        "#Plot epoch_losses for each task v/s number of epochs\n",
        "plot_epochs = [i for i in range(1,11)]\n",
        "\n",
        "\n",
        "\n",
        "plt.figure(figsize=(10,8))\n",
        "plt.title('Loss v/s Number of epochs')\n",
        "plt.ylabel('Loss for each task')\n",
        "plt.xlabel('Number of epochs')\n",
        "\n",
        "# add legends\n",
        "\n",
        "plt.plot(task_wise_losses[0],'-o', label = 'Gender')\n",
        "plt.plot(task_wise_losses[1],'-o', label = 'Smiling')\n",
        "plt.plot(task_wise_losses[2],'-o', label = 'Young')\n",
        "plt.plot(task_wise_losses[3],'-o', label = 'Glasses')\n",
        "plt.plot(task_wise_losses[4],'-o', label = 'Hat')\n",
        "plt.plot(task_wise_losses[5],'-o', label = 'Necklace')\n",
        "plt.plot(task_wise_losses[6],'-o', label = 'Earrings')\n",
        "plt.plot(task_wise_losses[7],'-o', label = 'Lipstick')\n",
        "\n",
        "plt.legend()"
      ]
    },
    {
      "cell_type": "code",
      "execution_count": null,
      "metadata": {
        "id": "jX8KQRFUzksM",
        "outputId": "b402ba8a-2dfe-4463-af19-71c52a949f87"
      },
      "outputs": [
        {
          "name": "stdout",
          "output_type": "stream",
          "text": [
            "Gender accuracy: 0.9781084059713455\n",
            "Smiling accuracy: 0.9127842901512875\n",
            "Young accuracy: 0.8661456767858932\n",
            "Glasses accuracy: 0.9807634505560565\n",
            "Hat accuracy: 0.7967638513175033\n",
            "Necklace accuracy: 0.7024847209698427\n",
            "Earrings accuracy: 0.8305280032060915\n",
            "Lipstick accuracy: 0.9888287746718766\n"
          ]
        }
      ],
      "source": [
        "\n",
        "\n",
        "model.eval()\n",
        "gender_preds = []\n",
        "smiling_preds = []\n",
        "young_preds = []\n",
        "glasses_preds = []\n",
        "hat_preds = []\n",
        "necklace_preds = []\n",
        "earrings_preds = []\n",
        "lipstick_preds = []\n",
        "gender_labels = []\n",
        "smiling_labels = []\n",
        "young_labels = []\n",
        "glasses_labels = []\n",
        "hat_labels = []\n",
        "necklace_labels = []\n",
        "earrings_labels = []\n",
        "lipstick_labels = []\n",
        "\n",
        "with torch.no_grad():\n",
        "    for data in test_loader:\n",
        "        inputs, targets = data\n",
        "        inputs = inputs.cuda()\n",
        "        targets = targets.cuda()\n",
        "        gender, smiling, young, glasses, hat, necklace, earrings, lipstick = targets[:, 20], targets[:, 31], targets[:, 39], targets[:, 17], targets[:, 2], targets[:, 6], targets[:, 7], targets[:, 4]\n",
        "        outputs = model(inputs)\n",
        "        gender_preds.extend(torch.argmax(outputs[0], dim=1).tolist())\n",
        "        smiling_preds.extend(torch.argmax(outputs[1], dim=1).tolist())\n",
        "        young_preds.extend(torch.argmax(outputs[2], dim=1).tolist())\n",
        "        glasses_preds.extend(torch.argmax(outputs[3], dim=1).tolist())\n",
        "        hat_preds.extend(torch.argmax(outputs[4], dim=1).tolist())\n",
        "        necklace_preds.extend(torch.argmax(outputs[5], dim=1).tolist())\n",
        "        earrings_preds.extend(torch.argmax(outputs[6], dim=1).tolist())\n",
        "        lipstick_preds.extend(torch.argmax(outputs[7], dim=1).tolist())\n",
        "        gender_labels.extend(gender.tolist())\n",
        "        smiling_labels.extend(smiling.tolist())\n",
        "        young_labels.extend(young.tolist())\n",
        "        glasses_labels.extend(glasses.tolist())\n",
        "        hat_labels.extend(hat.tolist())\n",
        "        necklace_labels.extend(necklace.tolist())\n",
        "        earrings_labels.extend(earrings.tolist())\n",
        "        lipstick_labels.extend(lipstick.tolist())\n",
        "\n",
        "\n",
        "gender_acc_new = accuracy_score(gender_labels, gender_preds)\n",
        "smiling_acc_new = accuracy_score(smiling_labels, smiling_preds)\n",
        "young_acc_new = accuracy_score(young_labels, young_preds)\n",
        "glasses_acc_new = accuracy_score(glasses_labels, glasses_preds)\n",
        "hat_acc_new = accuracy_score(hat_labels, hat_preds)\n",
        "necklace_acc_new = accuracy_score(necklace_labels, necklace_preds)\n",
        "earrings_acc_new = accuracy_score(earrings_labels, earrings_preds)\n",
        "lipstick_acc_new = accuracy_score(lipstick_labels, lipstick_preds)\n",
        "\n",
        "print(f\"Gender accuracy: {gender_acc_new}\")\n",
        "print(f\"Smiling accuracy: {smiling_acc_new}\")\n",
        "print(f\"Young accuracy: {young_acc_new}\")\n",
        "print(f\"Glasses accuracy: {glasses_acc_new}\")\n",
        "print(f\"Hat accuracy: {hat_acc_new}\")\n",
        "print(f\"Necklace accuracy: {necklace_acc_new}\")\n",
        "print(f\"Earrings accuracy: {earrings_acc_new}\")\n",
        "print(f\"Lipstick accuracy: {lipstick_acc_new}\")"
      ]
    },
    {
      "cell_type": "code",
      "execution_count": null,
      "metadata": {
        "id": "6rkEBg1bzksM"
      },
      "outputs": [],
      "source": [
        "all_labels_new = gender_labels+smiling_labels+young_labels+glasses_labels+hat_labels+necklace_labels+earrings_labels+lipstick_labels\n",
        "all_preds_new = gender_preds+smiling_preds+young_preds+glasses_preds+hat_preds+necklace_preds+earrings_preds+lipstick_preds"
      ]
    },
    {
      "cell_type": "code",
      "execution_count": null,
      "metadata": {
        "id": "hzkd0XhDzksM",
        "outputId": "785c89b6-b589-4225-b4db-5168efe35ef0"
      },
      "outputs": [
        {
          "name": "stdout",
          "output_type": "stream",
          "text": [
            "Overall accuracy: 0.8820508967037372\n"
          ]
        }
      ],
      "source": [
        "overall_acc_new = accuracy_score(all_labels_new, all_preds_new)\n",
        "print(f\"Overall accuracy: {overall_acc_new}\")"
      ]
    },
    {
      "cell_type": "code",
      "execution_count": null,
      "metadata": {
        "id": "lR8hjJzpzksM",
        "outputId": "09a05e3d-6c55-42a8-afce-b3edb411f73f"
      },
      "outputs": [
        {
          "name": "stderr",
          "output_type": "stream",
          "text": [
            "<ipython-input-73-153dcb1be5af>:22: MatplotlibDeprecationWarning: Passing the minor parameter of set_ticks() positionally is deprecated since Matplotlib 3.2; the parameter will become keyword-only two minor releases later.\n",
            "  ax.set_xticks(x + width, att)\n"
          ]
        },
        {
          "data": {
            "image/png": "[encoded data removed]",
            "text/plain": [
              "<Figure size 432x288 with 1 Axes>"
            ]
          },
          "metadata": {
            "needs_background": "light"
          },
          "output_type": "display_data"
        }
      ],
      "source": [
        "att = ['Gender', 'Smiling', 'Young', 'Glasses', 'Hat', 'Necklace', 'Earrings', 'Lipstick']\n",
        "vals = {\n",
        "    'Without DST': (gender_acc, smiling_acc, young_acc, glasses_acc, hat_acc, necklace_acc, earrings_acc, lipstick_acc),\n",
        "    'With DST': (gender_acc_new, smiling_acc_new, young_acc_new, glasses_acc_new, hat_acc_new, necklace_acc_new, earrings_acc_new, lipstick_acc_new),\n",
        "}\n",
        "\n",
        "x = np.arange(len(att))  # the label locations\n",
        "width = 0.25  # the width of the bars\n",
        "multiplier = 0\n",
        "\n",
        "fig, ax = plt.subplots()\n",
        "\n",
        "for attribute, measurement in vals.items():\n",
        "    offset = width * multiplier\n",
        "    rects = ax.bar(x + offset, measurement, width, label=attribute)\n",
        "    multiplier += 1\n",
        "\n",
        "\n",
        "ax.set_ylabel('Accuracy')\n",
        "ax.set_xlabel('Attributes')\n",
        "ax.set_title('Penguin attributes by species')\n",
        "ax.set_xticks(x + width, att)\n",
        "ax.legend(loc='upper left')\n",
        "#ax.set_ylim(0, 250)\n",
        "\n",
        "plt.show()\n",
        "\n"
      ]
    },
    {
      "cell_type": "code",
      "execution_count": null,
      "metadata": {
        "id": "hio_eXnQzksN"
      },
      "outputs": [],
      "source": []
    }
  ],
  "metadata": {
    "accelerator": "GPU",
    "colab": {
      "provenance": []
    },
    "gpuClass": "standard",
    "kernelspec": {
      "display_name": "Python 3",
      "name": "python3"
    },
    "language_info": {
      "codemirror_mode": {
        "name": "ipython",
        "version": 3
      },
      "file_extension": ".py",
      "mimetype": "text/x-python",
      "name": "python",
      "nbconvert_exporter": "python",
      "pygments_lexer": "ipython3",
      "version": "3.8.8"
    }
  },
  "nbformat": 4,
  "nbformat_minor": 0
}